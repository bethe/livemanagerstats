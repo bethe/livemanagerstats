{
 "cells": [
  {
   "cell_type": "code",
   "execution_count": 1,
   "metadata": {
    "collapsed": false
   },
   "outputs": [],
   "source": [
    "setwd(\"~/Projects/livemanager\")\n",
    "load(\"plm.RData\")"
   ]
  },
  {
   "cell_type": "code",
   "execution_count": 2,
   "metadata": {
    "collapsed": false
   },
   "outputs": [
    {
     "name": "stdout",
     "output_type": "stream",
     "text": [
      "'data.frame':\t234 obs. of  18 variables:\n",
      " $ LEAGUE   : Factor w/ 1 level \"Bundesliga\": 1 1 1 1 1 1 1 1 1 1 ...\n",
      " $ FTR      : Factor w/ 3 levels \"A\",\"D\",\"H\": 3 3 3 3 2 1 3 2 3 3 ...\n",
      " $ FTSC     : Factor w/ 28 levels \"0:0\",\"0:1\",\"0:2\",..: 12 6 25 17 14 3 6 20 12 12 ...\n",
      " $ MATCH_URL: Factor w/ 234 levels \"http://www.oddsportal.com/soccer/germany/bundesliga/augsburg-b-monchengladbach-GncNw7cb/\",..: 77 33 52 18 54 114 144 155 128 100 ...\n",
      " $ SEASON   : int  2015 2015 2015 2015 2015 2015 2015 2015 2015 2015 ...\n",
      " $ HOMETEAM : Factor w/ 18 levels \"1. FC Koln\",\"Augsburg\",..: 7 4 5 3 6 10 12 13 11 9 ...\n",
      " $ TIME     : Factor w/ 10 levels \"13:30\",\"14:30\",..: 5 2 6 2 2 2 2 2 10 5 ...\n",
      " $ FTHG     : int  2 1 5 3 2 0 1 3 2 2 ...\n",
      " $ AVOD     : num  5.14 3.97 11 4.55 3.18 3.31 3.7 3.31 3.24 3.15 ...\n",
      " $ AWAYTEAM : Factor w/ 18 levels \"1. FC Koln\",\"Augsburg\",..: 14 9 17 8 2 1 18 16 15 11 ...\n",
      " $ AVOA     : num  8.85 5.44 24.43 6.21 2.75 ...\n",
      " $ COUNTRY  : Factor w/ 1 level \"Germany\": 1 1 1 1 1 1 1 1 1 1 ...\n",
      " $ DATE     : Factor w/ 75 levels \"01-03-2016\",\"01-11-2015\",..: 26 26 22 22 22 22 22 22 18 12 ...\n",
      " $ ODDS_TYPE: Factor w/ 1 level \"EU Odds\": 1 1 1 1 1 1 1 1 1 1 ...\n",
      " $ FTAG     : int  0 0 0 0 2 2 0 3 0 0 ...\n",
      " $ AVOH     : num  1.36 1.64 1.1 1.51 2.75 3.39 3.45 3.04 2.55 2.76 ...\n",
      " $ TIMESTAMP: int  1457886600 1457879400 1457803800 1457793000 1457793000 1457793000 1457793000 1457793000 1457724600 1457281800 ...\n",
      " $ PAGE_URL : Factor w/ 5 levels \"http://www.oddsportal.com/soccer/germany/bundesliga/results/#/page/2/\",..: 1 1 1 1 1 1 1 1 1 1 ...\n"
     ]
    }
   ],
   "source": [
    "odds <- read.csv(\"data/match_odds.csv\")\n",
    "next_odds <- read.csv(\"data/next_match_odds.csv\")\n",
    "str(odds)"
   ]
  },
  {
   "cell_type": "code",
   "execution_count": 3,
   "metadata": {
    "collapsed": false
   },
   "outputs": [],
   "source": [
    "## Express Odds as Chances\n",
    "next_odds$Hprob <- (1 / next_odds$AVOH) / ((1/next_odds$AVOH) + (1/next_odds$AVOD) + (1/next_odds$AVOA))\n",
    "next_odds$Aprob <- (1 / next_odds$AVOA) / ((1/next_odds$AVOH) + (1/next_odds$AVOD) + (1/next_odds$AVOA))\n",
    "odds$Hprob <- (1 / odds$AVOH) / ((1/odds$AVOH) + (1/odds$AVOD) + (1/odds$AVOA))\n",
    "odds$Aprob <- (1 / odds$AVOA) / ((1/odds$AVOH) + (1/odds$AVOD) + (1/odds$AVOA))\n"
   ]
  },
  {
   "cell_type": "code",
   "execution_count": 4,
   "metadata": {
    "collapsed": false
   },
   "outputs": [
    {
     "data": {
      "text/html": [
       "<ol class=list-inline>\n",
       "\t<li>'1. FC Koln'</li>\n",
       "\t<li>'Augsburg'</li>\n",
       "\t<li>'B. Monchengladbach'</li>\n",
       "\t<li>'Bayer Leverkusen'</li>\n",
       "\t<li>'Bayern Munich'</li>\n",
       "\t<li>'Darmstadt'</li>\n",
       "\t<li>'Dortmund'</li>\n",
       "\t<li>'Eintracht Frankfurt'</li>\n",
       "\t<li>'Hamburger SV'</li>\n",
       "\t<li>'Hannover'</li>\n",
       "\t<li>'Hertha Berlin'</li>\n",
       "\t<li>'Hoffenheim'</li>\n",
       "\t<li>'Ingolstadt'</li>\n",
       "\t<li>'Mainz'</li>\n",
       "\t<li>'Schalke'</li>\n",
       "\t<li>'VfB Stuttgart'</li>\n",
       "\t<li>'Werder Bremen'</li>\n",
       "\t<li>'Wolfsburg'</li>\n",
       "</ol>\n"
      ],
      "text/latex": [
       "\\begin{enumerate*}\n",
       "\\item '1. FC Koln'\n",
       "\\item 'Augsburg'\n",
       "\\item 'B. Monchengladbach'\n",
       "\\item 'Bayer Leverkusen'\n",
       "\\item 'Bayern Munich'\n",
       "\\item 'Darmstadt'\n",
       "\\item 'Dortmund'\n",
       "\\item 'Eintracht Frankfurt'\n",
       "\\item 'Hamburger SV'\n",
       "\\item 'Hannover'\n",
       "\\item 'Hertha Berlin'\n",
       "\\item 'Hoffenheim'\n",
       "\\item 'Ingolstadt'\n",
       "\\item 'Mainz'\n",
       "\\item 'Schalke'\n",
       "\\item 'VfB Stuttgart'\n",
       "\\item 'Werder Bremen'\n",
       "\\item 'Wolfsburg'\n",
       "\\end{enumerate*}\n"
      ],
      "text/markdown": [
       "1. '1. FC Koln'\n",
       "2. 'Augsburg'\n",
       "3. 'B. Monchengladbach'\n",
       "4. 'Bayer Leverkusen'\n",
       "5. 'Bayern Munich'\n",
       "6. 'Darmstadt'\n",
       "7. 'Dortmund'\n",
       "8. 'Eintracht Frankfurt'\n",
       "9. 'Hamburger SV'\n",
       "10. 'Hannover'\n",
       "11. 'Hertha Berlin'\n",
       "12. 'Hoffenheim'\n",
       "13. 'Ingolstadt'\n",
       "14. 'Mainz'\n",
       "15. 'Schalke'\n",
       "16. 'VfB Stuttgart'\n",
       "17. 'Werder Bremen'\n",
       "18. 'Wolfsburg'\n",
       "\n",
       "\n"
      ],
      "text/plain": [
       " [1] \"1. FC Koln\"          \"Augsburg\"            \"B. Monchengladbach\" \n",
       " [4] \"Bayer Leverkusen\"    \"Bayern Munich\"       \"Darmstadt\"          \n",
       " [7] \"Dortmund\"            \"Eintracht Frankfurt\" \"Hamburger SV\"       \n",
       "[10] \"Hannover\"            \"Hertha Berlin\"       \"Hoffenheim\"         \n",
       "[13] \"Ingolstadt\"          \"Mainz\"               \"Schalke\"            \n",
       "[16] \"VfB Stuttgart\"       \"Werder Bremen\"       \"Wolfsburg\"          "
      ]
     },
     "execution_count": 4,
     "metadata": {},
     "output_type": "execute_result"
    }
   ],
   "source": [
    "#next_odds\n",
    "#head(odds)\n",
    "levels(odds$HOMETEAM)"
   ]
  },
  {
   "cell_type": "code",
   "execution_count": 5,
   "metadata": {
    "collapsed": false
   },
   "outputs": [],
   "source": [
    "## Align Teamnames with PLM format\n",
    "levels(next_odds$HOMETEAM) <- c(\"KOE\", \"FCA\", \"BMG\", \"B04\", \"FCB\", \"D98\", \"BVB\", \"SGE\", \"HSV\", \"H96\", \n",
    "                           \"BSC\", \"TSG\", \"FCI\", \"M05\", \"S04\", \"VFB\", \"BRE\", \"WOB\")\n",
    "levels(next_odds$AWAYTEAM) <- c(\"KOE\", \"FCA\", \"BMG\", \"B04\", \"FCB\", \"D98\", \"BVB\", \"SGE\", \"HSV\", \"H96\", \n",
    "                           \"BSC\", \"TSG\", \"FCI\", \"M05\", \"S04\", \"VFB\", \"BRE\", \"WOB\")\n",
    "levels(odds$HOMETEAM) <- c(\"KOE\", \"FCA\", \"BMG\", \"B04\", \"FCB\", \"D98\", \"BVB\", \"SGE\", \"HSV\", \"H96\", \n",
    "                           \"BSC\", \"TSG\", \"FCI\", \"M05\", \"S04\", \"VFB\", \"BRE\", \"WOB\")\n",
    "levels(odds$AWAYTEAM) <- c(\"KOE\", \"FCA\", \"BMG\", \"B04\", \"FCB\", \"D98\", \"BVB\", \"SGE\", \"HSV\", \"H96\", \n",
    "                           \"BSC\", \"TSG\", \"FCI\", \"M05\", \"S04\", \"VFB\", \"BRE\", \"WOB\")\n",
    "\n",
    "## Add matchday column\n",
    "matchdays <- nrow(odds) / 9\n",
    "odds$matchday <- rep(matchdays:1, each = 9)"
   ]
  },
  {
   "cell_type": "code",
   "execution_count": 6,
   "metadata": {
    "collapsed": false
   },
   "outputs": [
    {
     "ename": "ERROR",
     "evalue": "Error in eval(expr, envir, enclos): could not find function \"sqldf\"\n",
     "output_type": "error",
     "traceback": [
      "Error in eval(expr, envir, enclos): could not find function \"sqldf\"\n"
     ]
    }
   ],
   "source": [
    "sqldf(\"SELECT timestamp, DATE, COUNT(1) FROM odds GROUP BY timestamp, DATE ORDER BY timestamp\")\n",
    "#odds[80:120,]\n",
    "#rep(matchdays:1, each = 9)\n",
    "#odds$matchday"
   ]
  },
  {
   "cell_type": "code",
   "execution_count": 7,
   "metadata": {
    "collapsed": false
   },
   "outputs": [],
   "source": [
    "levels(plm$home_shortname) <- factor(plm$Club)\n",
    "levels(plm$away_shortname) <- factor(plm$Club)"
   ]
  },
  {
   "cell_type": "code",
   "execution_count": 8,
   "metadata": {
    "collapsed": false
   },
   "outputs": [
    {
     "name": "stderr",
     "output_type": "stream",
     "text": [
      "\n",
      "Attaching package: 'dplyr'\n",
      "\n",
      "The following objects are masked from 'package:stats':\n",
      "\n",
      "    filter, lag\n",
      "\n",
      "The following objects are masked from 'package:base':\n",
      "\n",
      "    intersect, setdiff, setequal, union\n",
      "\n"
     ]
    },
    {
     "data": {
      "text/html": [
       "<table>\n",
       "<thead><tr><th></th><th scope=col>matchday</th><th scope=col>Club</th><th scope=col>home</th><th scope=col>earnings</th></tr></thead>\n",
       "<tbody>\n",
       "\t<tr><th scope=row>1</th><td>1</td><td>B04</td><td>0</td><td>129208.3</td></tr>\n",
       "\t<tr><th scope=row>2</th><td>1</td><td>BMG</td><td>0</td><td>-692.3077</td></tr>\n",
       "\t<tr><th scope=row>3</th><td>1</td><td>BRE</td><td>0</td><td>9321.429</td></tr>\n",
       "\t<tr><th scope=row>4</th><td>1</td><td>BSC</td><td>NA</td><td>109846.2</td></tr>\n",
       "\t<tr><th scope=row>5</th><td>1</td><td>BVB</td><td>0</td><td>186961.5</td></tr>\n",
       "\t<tr><th scope=row>6</th><td>1</td><td>D98</td><td>0</td><td>62642.86</td></tr>\n",
       "\t<tr><th scope=row>7</th><td>1</td><td>FCA</td><td>NA</td><td>19607.14</td></tr>\n",
       "\t<tr><th scope=row>8</th><td>1</td><td>FCB</td><td>NA</td><td>203142.9</td></tr>\n",
       "\t<tr><th scope=row>9</th><td>1</td><td>FCI</td><td>NA</td><td>109285.7</td></tr>\n",
       "\t<tr><th scope=row>10</th><td>1</td><td>H96</td><td>0</td><td>66928.57</td></tr>\n",
       "\t<tr><th scope=row>11</th><td>1</td><td>HSV</td><td>NA</td><td>-18642.86</td></tr>\n",
       "\t<tr><th scope=row>12</th><td>1</td><td>KOE</td><td>NA</td><td>106678.6</td></tr>\n",
       "\t<tr><th scope=row>13</th><td>1</td><td>M05</td><td>NA</td><td>32807.69</td></tr>\n",
       "\t<tr><th scope=row>14</th><td>1</td><td>S04</td><td>0</td><td>136115.4</td></tr>\n",
       "\t<tr><th scope=row>15</th><td>1</td><td>SGE</td><td>NA</td><td>30076.92</td></tr>\n",
       "\t<tr><th scope=row>16</th><td>1</td><td>TSG</td><td>0</td><td>38750</td></tr>\n",
       "\t<tr><th scope=row>17</th><td>1</td><td>VFB</td><td>NA</td><td>23000</td></tr>\n",
       "\t<tr><th scope=row>18</th><td>1</td><td>WOB</td><td>NA</td><td>103681.8</td></tr>\n",
       "\t<tr><th scope=row>19</th><td>2</td><td>B04</td><td>NA</td><td>127653.8</td></tr>\n",
       "\t<tr><th scope=row>20</th><td>2</td><td>BMG</td><td>0</td><td>62500</td></tr>\n",
       "</tbody>\n",
       "</table>\n"
      ],
      "text/latex": [
       "\\begin{tabular}{r|llll}\n",
       "  & matchday & Club & home & earnings\\\\\n",
       "\\hline\n",
       "\t1 & 1 & B04 & 0 & 129208.3\\\\\n",
       "\t2 & 1 & BMG & 0 & -692.3077\\\\\n",
       "\t3 & 1 & BRE & 0 & 9321.429\\\\\n",
       "\t4 & 1 & BSC & NA & 109846.2\\\\\n",
       "\t5 & 1 & BVB & 0 & 186961.5\\\\\n",
       "\t6 & 1 & D98 & 0 & 62642.86\\\\\n",
       "\t7 & 1 & FCA & NA & 19607.14\\\\\n",
       "\t8 & 1 & FCB & NA & 203142.9\\\\\n",
       "\t9 & 1 & FCI & NA & 109285.7\\\\\n",
       "\t10 & 1 & H96 & 0 & 66928.57\\\\\n",
       "\t11 & 1 & HSV & NA & -18642.86\\\\\n",
       "\t12 & 1 & KOE & NA & 106678.6\\\\\n",
       "\t13 & 1 & M05 & NA & 32807.69\\\\\n",
       "\t14 & 1 & S04 & 0 & 136115.4\\\\\n",
       "\t15 & 1 & SGE & NA & 30076.92\\\\\n",
       "\t16 & 1 & TSG & 0 & 38750\\\\\n",
       "\t17 & 1 & VFB & NA & 23000\\\\\n",
       "\t18 & 1 & WOB & NA & 103681.8\\\\\n",
       "\t19 & 2 & B04 & NA & 127653.8\\\\\n",
       "\t20 & 2 & BMG & 0 & 62500\\\\\n",
       "\\end{tabular}\n"
      ],
      "text/plain": [
       "Source: local data frame [20 x 4]\n",
       "\n",
       "   matchday   Club  home    earnings\n",
       "      (int) (fctr) (dbl)       (dbl)\n",
       "1         1    B04     0 129208.3333\n",
       "2         1    BMG     0   -692.3077\n",
       "3         1    BRE     0   9321.4286\n",
       "4         1    BSC    NA 109846.1538\n",
       "5         1    BVB     0 186961.5385\n",
       "6         1    D98     0  62642.8571\n",
       "7         1    FCA    NA  19607.1429\n",
       "8         1    FCB    NA 203142.8571\n",
       "9         1    FCI    NA 109285.7143\n",
       "10        1    H96     0  66928.5714\n",
       "11        1    HSV    NA -18642.8571\n",
       "12        1    KOE    NA 106678.5714\n",
       "13        1    M05    NA  32807.6923\n",
       "14        1    S04     0 136115.3846\n",
       "15        1    SGE    NA  30076.9231\n",
       "16        1    TSG     0  38750.0000\n",
       "17        1    VFB    NA  23000.0000\n",
       "18        1    WOB    NA 103681.8182\n",
       "19        2    B04    NA 127653.8462\n",
       "20        2    BMG     0  62500.0000"
      ]
     },
     "execution_count": 8,
     "metadata": {},
     "output_type": "execute_result"
    }
   ],
   "source": [
    "## Get average earnings per team / match\n",
    "library(\"dplyr\")\n",
    "plm.clubmatches <- plm %>%\n",
    "    filter(!is.na(Club) & time_on_pitch > 0) %>%\n",
    "    group_by(matchday, Club) %>%\n",
    "    summarise(home = ceiling(mean(Club == home_shortname)),\n",
    "              earnings = mean(total_earnings)) %>%\n",
    "    ungroup() %>%\n",
    "    arrange(matchday, Club)\n",
    "\n",
    "head(plm.clubmatches, 20)"
   ]
  },
  {
   "cell_type": "code",
   "execution_count": 9,
   "metadata": {
    "collapsed": false
   },
   "outputs": [
    {
     "data": {
      "text/html": [
       "<table>\n",
       "<thead><tr><th></th><th scope=col>LEAGUE</th><th scope=col>FTR</th><th scope=col>FTSC</th><th scope=col>MATCH_URL</th><th scope=col>SEASON</th><th scope=col>HOMETEAM</th><th scope=col>TIME</th><th scope=col>FTHG</th><th scope=col>AVOD</th><th scope=col>AWAYTEAM</th><th scope=col>AVOA</th><th scope=col>COUNTRY</th><th scope=col>DATE</th><th scope=col>ODDS_TYPE</th><th scope=col>FTAG</th><th scope=col>AVOH</th><th scope=col>TIMESTAMP</th><th scope=col>PAGE_URL</th><th scope=col>Hprob</th><th scope=col>Aprob</th><th scope=col>matchday</th></tr></thead>\n",
       "<tbody>\n",
       "\t<tr><th scope=row>154</th><td>Bundesliga</td><td>H</td><td>1:0</td><td>http://www.oddsportal.com/soccer/germany/bundesliga/vfb-stuttgart-ingolstadt-r7h8d3jB/</td><td>2015</td><td>VFB</td><td>15:30</td><td>1</td><td>3.76</td><td>FCI</td><td>4.21</td><td>Germany</td><td>18-10-2015</td><td>EU Odds</td><td>0</td><td>1.85</td><td>1445182200</td><td>http://www.oddsportal.com/soccer/germany/bundesliga/results/#/page/5/</td><td>0.5177454</td><td>0.2275128</td><td>9</td></tr>\n",
       "\t<tr><th scope=row>155</th><td>Bundesliga</td><td>A</td><td>0:1</td><td>http://www.oddsportal.com/soccer/germany/bundesliga/koln-hannover-z5XnkLro/</td><td>2015</td><td>KOE</td><td>13:30</td><td>0</td><td>3.65</td><td>H96</td><td>4.46</td><td>Germany</td><td>18-10-2015</td><td>EU Odds</td><td>1</td><td>1.83</td><td>1445175000</td><td>http://www.oddsportal.com/soccer/germany/bundesliga/results/#/page/5/</td><td>0.5230991</td><td>0.2146348</td><td>9</td></tr>\n",
       "\t<tr><th scope=row>156</th><td>Bundesliga</td><td>A</td><td>1:5</td><td>http://www.oddsportal.com/soccer/germany/bundesliga/eintracht-frankfurt-b-monchengladbach-YeoLg1zU/</td><td>2015</td><td>SGE</td><td>16:30</td><td>1</td><td>3.49</td><td>BMG</td><td>2.7</td><td>Germany</td><td>17-10-2015</td><td>EU Odds</td><td>5</td><td>2.59</td><td>1445099400</td><td>http://www.oddsportal.com/soccer/germany/bundesliga/results/#/page/5/</td><td>0.3701812</td><td>0.3550998</td><td>9</td></tr>\n",
       "\t<tr><th scope=row>157</th><td>Bundesliga</td><td>A</td><td>0:2</td><td>http://www.oddsportal.com/soccer/germany/bundesliga/augsburg-darmstadt-xUiCeN5H/</td><td>2015</td><td>FCA</td><td>13:30</td><td>0</td><td>3.53</td><td>D98</td><td>4.44</td><td>Germany</td><td>17-10-2015</td><td>EU Odds</td><td>2</td><td>1.87</td><td>1445088600</td><td>http://www.oddsportal.com/soccer/germany/bundesliga/results/#/page/5/</td><td>0.5125797</td><td>0.2158838</td><td>9</td></tr>\n",
       "\t<tr><th scope=row>158</th><td>Bundesliga</td><td>D</td><td>0:0</td><td>http://www.oddsportal.com/soccer/germany/bundesliga/hamburger-bayer-leverkusen-U3l4cqy5/</td><td>2015</td><td>HSV</td><td>13:30</td><td>0</td><td>3.6</td><td>B04</td><td>1.87</td><td>Germany</td><td>17-10-2015</td><td>EU Odds</td><td>0</td><td>4.34</td><td>1445088600</td><td>http://www.oddsportal.com/soccer/germany/bundesliga/results/#/page/5/</td><td>0.2209256</td><td>0.5127364</td><td>9</td></tr>\n",
       "\t<tr><th scope=row>159</th><td>Bundesliga</td><td>H</td><td>2:1</td><td>http://www.oddsportal.com/soccer/germany/bundesliga/schalke-hertha-berlin-8l0ea56h/</td><td>2015</td><td>S04</td><td>13:30</td><td>2</td><td>3.58</td><td>BSC</td><td>3.97</td><td>Germany</td><td>17-10-2015</td><td>EU Odds</td><td>1</td><td>1.96</td><td>1445088600</td><td>http://www.oddsportal.com/soccer/germany/bundesliga/results/#/page/5/</td><td>0.4899106</td><td>0.2418702</td><td>9</td></tr>\n",
       "\t<tr><th scope=row>160</th><td>Bundesliga</td><td>A</td><td>0:1</td><td>http://www.oddsportal.com/soccer/germany/bundesliga/werder-bremen-bayern-munich-GKjGfsLN/</td><td>2015</td><td>BRE</td><td>13:30</td><td>0</td><td>7.52</td><td>FCB</td><td>1.19</td><td>Germany</td><td>17-10-2015</td><td>EU Odds</td><td>1</td><td>14.94</td><td>1445088600</td><td>http://www.oddsportal.com/soccer/germany/bundesliga/results/#/page/5/</td><td>0.06434458</td><td>0.8078219</td><td>9</td></tr>\n",
       "\t<tr><th scope=row>161</th><td>Bundesliga</td><td>H</td><td>4:2</td><td>http://www.oddsportal.com/soccer/germany/bundesliga/wolfsburg-hoffenheim-nuaabPLb/</td><td>2015</td><td>WOB</td><td>13:30</td><td>4</td><td>4.3</td><td>TSG</td><td>5.38</td><td>Germany</td><td>17-10-2015</td><td>EU Odds</td><td>2</td><td>1.61</td><td>1445088600</td><td>http://www.oddsportal.com/soccer/germany/bundesliga/results/#/page/5/</td><td>0.5974875</td><td>0.178802</td><td>9</td></tr>\n",
       "\t<tr><th scope=row>162</th><td>Bundesliga</td><td>A</td><td>0:2</td><td>http://www.oddsportal.com/soccer/germany/bundesliga/mainz-dortmund-l8LUD4Lo/</td><td>2015</td><td>M05</td><td>18:30</td><td>0</td><td>4.7</td><td>BVB</td><td>1.49</td><td>Germany</td><td>16-10-2015</td><td>EU Odds</td><td>2</td><td>6.29</td><td>1445020200</td><td>http://www.oddsportal.com/soccer/germany/bundesliga/results/#/page/5/</td><td>0.1524443</td><td>0.6435399</td><td>9</td></tr>\n",
       "</tbody>\n",
       "</table>\n"
      ],
      "text/latex": [
       "\\begin{tabular}{r|lllllllllllllllllllll}\n",
       "  & LEAGUE & FTR & FTSC & MATCH_URL & SEASON & HOMETEAM & TIME & FTHG & AVOD & AWAYTEAM & AVOA & COUNTRY & DATE & ODDS_TYPE & FTAG & AVOH & TIMESTAMP & PAGE_URL & Hprob & Aprob & matchday\\\\\n",
       "\\hline\n",
       "\t154 & Bundesliga & H & 1:0 & http://www.oddsportal.com/soccer/germany/bundesliga/vfb-stuttgart-ingolstadt-r7h8d3jB/ & 2015 & VFB & 15:30 & 1 & 3.76 & FCI & 4.21 & Germany & 18-10-2015 & EU Odds & 0 & 1.85 & 1445182200 & http://www.oddsportal.com/soccer/germany/bundesliga/results/#/page/5/ & 0.5177454 & 0.2275128 & 9\\\\\n",
       "\t155 & Bundesliga & A & 0:1 & http://www.oddsportal.com/soccer/germany/bundesliga/koln-hannover-z5XnkLro/ & 2015 & KOE & 13:30 & 0 & 3.65 & H96 & 4.46 & Germany & 18-10-2015 & EU Odds & 1 & 1.83 & 1445175000 & http://www.oddsportal.com/soccer/germany/bundesliga/results/#/page/5/ & 0.5230991 & 0.2146348 & 9\\\\\n",
       "\t156 & Bundesliga & A & 1:5 & http://www.oddsportal.com/soccer/germany/bundesliga/eintracht-frankfurt-b-monchengladbach-YeoLg1zU/ & 2015 & SGE & 16:30 & 1 & 3.49 & BMG & 2.7 & Germany & 17-10-2015 & EU Odds & 5 & 2.59 & 1445099400 & http://www.oddsportal.com/soccer/germany/bundesliga/results/#/page/5/ & 0.3701812 & 0.3550998 & 9\\\\\n",
       "\t157 & Bundesliga & A & 0:2 & http://www.oddsportal.com/soccer/germany/bundesliga/augsburg-darmstadt-xUiCeN5H/ & 2015 & FCA & 13:30 & 0 & 3.53 & D98 & 4.44 & Germany & 17-10-2015 & EU Odds & 2 & 1.87 & 1445088600 & http://www.oddsportal.com/soccer/germany/bundesliga/results/#/page/5/ & 0.5125797 & 0.2158838 & 9\\\\\n",
       "\t158 & Bundesliga & D & 0:0 & http://www.oddsportal.com/soccer/germany/bundesliga/hamburger-bayer-leverkusen-U3l4cqy5/ & 2015 & HSV & 13:30 & 0 & 3.6 & B04 & 1.87 & Germany & 17-10-2015 & EU Odds & 0 & 4.34 & 1445088600 & http://www.oddsportal.com/soccer/germany/bundesliga/results/#/page/5/ & 0.2209256 & 0.5127364 & 9\\\\\n",
       "\t159 & Bundesliga & H & 2:1 & http://www.oddsportal.com/soccer/germany/bundesliga/schalke-hertha-berlin-8l0ea56h/ & 2015 & S04 & 13:30 & 2 & 3.58 & BSC & 3.97 & Germany & 17-10-2015 & EU Odds & 1 & 1.96 & 1445088600 & http://www.oddsportal.com/soccer/germany/bundesliga/results/#/page/5/ & 0.4899106 & 0.2418702 & 9\\\\\n",
       "\t160 & Bundesliga & A & 0:1 & http://www.oddsportal.com/soccer/germany/bundesliga/werder-bremen-bayern-munich-GKjGfsLN/ & 2015 & BRE & 13:30 & 0 & 7.52 & FCB & 1.19 & Germany & 17-10-2015 & EU Odds & 1 & 14.94 & 1445088600 & http://www.oddsportal.com/soccer/germany/bundesliga/results/#/page/5/ & 0.06434458 & 0.8078219 & 9\\\\\n",
       "\t161 & Bundesliga & H & 4:2 & http://www.oddsportal.com/soccer/germany/bundesliga/wolfsburg-hoffenheim-nuaabPLb/ & 2015 & WOB & 13:30 & 4 & 4.3 & TSG & 5.38 & Germany & 17-10-2015 & EU Odds & 2 & 1.61 & 1445088600 & http://www.oddsportal.com/soccer/germany/bundesliga/results/#/page/5/ & 0.5974875 & 0.178802 & 9\\\\\n",
       "\t162 & Bundesliga & A & 0:2 & http://www.oddsportal.com/soccer/germany/bundesliga/mainz-dortmund-l8LUD4Lo/ & 2015 & M05 & 18:30 & 0 & 4.7 & BVB & 1.49 & Germany & 16-10-2015 & EU Odds & 2 & 6.29 & 1445020200 & http://www.oddsportal.com/soccer/germany/bundesliga/results/#/page/5/ & 0.1524443 & 0.6435399 & 9\\\\\n",
       "\\end{tabular}\n"
      ],
      "text/plain": [
       "        LEAGUE FTR FTSC\n",
       "154 Bundesliga   H  1:0\n",
       "155 Bundesliga   A  0:1\n",
       "156 Bundesliga   A  1:5\n",
       "157 Bundesliga   A  0:2\n",
       "158 Bundesliga   D  0:0\n",
       "159 Bundesliga   H  2:1\n",
       "160 Bundesliga   A  0:1\n",
       "161 Bundesliga   H  4:2\n",
       "162 Bundesliga   A  0:2\n",
       "                                                                                              MATCH_URL\n",
       "154              http://www.oddsportal.com/soccer/germany/bundesliga/vfb-stuttgart-ingolstadt-r7h8d3jB/\n",
       "155                         http://www.oddsportal.com/soccer/germany/bundesliga/koln-hannover-z5XnkLro/\n",
       "156 http://www.oddsportal.com/soccer/germany/bundesliga/eintracht-frankfurt-b-monchengladbach-YeoLg1zU/\n",
       "157                    http://www.oddsportal.com/soccer/germany/bundesliga/augsburg-darmstadt-xUiCeN5H/\n",
       "158            http://www.oddsportal.com/soccer/germany/bundesliga/hamburger-bayer-leverkusen-U3l4cqy5/\n",
       "159                 http://www.oddsportal.com/soccer/germany/bundesliga/schalke-hertha-berlin-8l0ea56h/\n",
       "160           http://www.oddsportal.com/soccer/germany/bundesliga/werder-bremen-bayern-munich-GKjGfsLN/\n",
       "161                  http://www.oddsportal.com/soccer/germany/bundesliga/wolfsburg-hoffenheim-nuaabPLb/\n",
       "162                        http://www.oddsportal.com/soccer/germany/bundesliga/mainz-dortmund-l8LUD4Lo/\n",
       "    SEASON HOMETEAM  TIME FTHG AVOD AWAYTEAM AVOA COUNTRY       DATE ODDS_TYPE\n",
       "154   2015      VFB 15:30    1 3.76      FCI 4.21 Germany 18-10-2015   EU Odds\n",
       "155   2015      KOE 13:30    0 3.65      H96 4.46 Germany 18-10-2015   EU Odds\n",
       "156   2015      SGE 16:30    1 3.49      BMG 2.70 Germany 17-10-2015   EU Odds\n",
       "157   2015      FCA 13:30    0 3.53      D98 4.44 Germany 17-10-2015   EU Odds\n",
       "158   2015      HSV 13:30    0 3.60      B04 1.87 Germany 17-10-2015   EU Odds\n",
       "159   2015      S04 13:30    2 3.58      BSC 3.97 Germany 17-10-2015   EU Odds\n",
       "160   2015      BRE 13:30    0 7.52      FCB 1.19 Germany 17-10-2015   EU Odds\n",
       "161   2015      WOB 13:30    4 4.30      TSG 5.38 Germany 17-10-2015   EU Odds\n",
       "162   2015      M05 18:30    0 4.70      BVB 1.49 Germany 16-10-2015   EU Odds\n",
       "    FTAG  AVOH  TIMESTAMP\n",
       "154    0  1.85 1445182200\n",
       "155    1  1.83 1445175000\n",
       "156    5  2.59 1445099400\n",
       "157    2  1.87 1445088600\n",
       "158    0  4.34 1445088600\n",
       "159    1  1.96 1445088600\n",
       "160    1 14.94 1445088600\n",
       "161    2  1.61 1445088600\n",
       "162    2  6.29 1445020200\n",
       "                                                                 PAGE_URL\n",
       "154 http://www.oddsportal.com/soccer/germany/bundesliga/results/#/page/5/\n",
       "155 http://www.oddsportal.com/soccer/germany/bundesliga/results/#/page/5/\n",
       "156 http://www.oddsportal.com/soccer/germany/bundesliga/results/#/page/5/\n",
       "157 http://www.oddsportal.com/soccer/germany/bundesliga/results/#/page/5/\n",
       "158 http://www.oddsportal.com/soccer/germany/bundesliga/results/#/page/5/\n",
       "159 http://www.oddsportal.com/soccer/germany/bundesliga/results/#/page/5/\n",
       "160 http://www.oddsportal.com/soccer/germany/bundesliga/results/#/page/5/\n",
       "161 http://www.oddsportal.com/soccer/germany/bundesliga/results/#/page/5/\n",
       "162 http://www.oddsportal.com/soccer/germany/bundesliga/results/#/page/5/\n",
       "         Hprob     Aprob matchday\n",
       "154 0.51774541 0.2275128        9\n",
       "155 0.52309907 0.2146348        9\n",
       "156 0.37018122 0.3550998        9\n",
       "157 0.51257968 0.2158838        9\n",
       "158 0.22092558 0.5127364        9\n",
       "159 0.48991058 0.2418702        9\n",
       "160 0.06434458 0.8078219        9\n",
       "161 0.59748753 0.1788020        9\n",
       "162 0.15244427 0.6435399        9"
      ]
     },
     "execution_count": 9,
     "metadata": {},
     "output_type": "execute_result"
    }
   ],
   "source": [
    "#probs.home\n",
    "subset(odds, odds$matchday == 9)"
   ]
  },
  {
   "cell_type": "code",
   "execution_count": 10,
   "metadata": {
    "collapsed": false
   },
   "outputs": [
    {
     "data": {
      "text/html": [
       "<table>\n",
       "<thead><tr><th></th><th scope=col>matchday</th><th scope=col>Club</th><th scope=col>Prob</th></tr></thead>\n",
       "<tbody>\n",
       "\t<tr><th scope=row>154</th><td>9</td><td>VFB</td><td>0.5177454</td></tr>\n",
       "\t<tr><th scope=row>155</th><td>9</td><td>KOE</td><td>0.5230991</td></tr>\n",
       "\t<tr><th scope=row>156</th><td>9</td><td>SGE</td><td>0.3701812</td></tr>\n",
       "\t<tr><th scope=row>157</th><td>9</td><td>FCA</td><td>0.5125797</td></tr>\n",
       "\t<tr><th scope=row>158</th><td>9</td><td>HSV</td><td>0.2209256</td></tr>\n",
       "\t<tr><th scope=row>159</th><td>9</td><td>S04</td><td>0.4899106</td></tr>\n",
       "\t<tr><th scope=row>160</th><td>9</td><td>BRE</td><td>0.06434458</td></tr>\n",
       "\t<tr><th scope=row>161</th><td>9</td><td>WOB</td><td>0.5974875</td></tr>\n",
       "\t<tr><th scope=row>162</th><td>9</td><td>M05</td><td>0.1524443</td></tr>\n",
       "\t<tr><th scope=row>388</th><td>9</td><td>FCI</td><td>0.2275128</td></tr>\n",
       "\t<tr><th scope=row>389</th><td>9</td><td>H96</td><td>0.2146348</td></tr>\n",
       "\t<tr><th scope=row>390</th><td>9</td><td>BMG</td><td>0.3550998</td></tr>\n",
       "\t<tr><th scope=row>391</th><td>9</td><td>D98</td><td>0.2158838</td></tr>\n",
       "\t<tr><th scope=row>392</th><td>9</td><td>B04</td><td>0.5127364</td></tr>\n",
       "\t<tr><th scope=row>393</th><td>9</td><td>BSC</td><td>0.2418702</td></tr>\n",
       "\t<tr><th scope=row>394</th><td>9</td><td>FCB</td><td>0.8078219</td></tr>\n",
       "\t<tr><th scope=row>395</th><td>9</td><td>TSG</td><td>0.178802</td></tr>\n",
       "\t<tr><th scope=row>396</th><td>9</td><td>BVB</td><td>0.6435399</td></tr>\n",
       "</tbody>\n",
       "</table>\n"
      ],
      "text/latex": [
       "\\begin{tabular}{r|lll}\n",
       "  & matchday & Club & Prob\\\\\n",
       "\\hline\n",
       "\t154 & 9 & VFB & 0.5177454\\\\\n",
       "\t155 & 9 & KOE & 0.5230991\\\\\n",
       "\t156 & 9 & SGE & 0.3701812\\\\\n",
       "\t157 & 9 & FCA & 0.5125797\\\\\n",
       "\t158 & 9 & HSV & 0.2209256\\\\\n",
       "\t159 & 9 & S04 & 0.4899106\\\\\n",
       "\t160 & 9 & BRE & 0.06434458\\\\\n",
       "\t161 & 9 & WOB & 0.5974875\\\\\n",
       "\t162 & 9 & M05 & 0.1524443\\\\\n",
       "\t388 & 9 & FCI & 0.2275128\\\\\n",
       "\t389 & 9 & H96 & 0.2146348\\\\\n",
       "\t390 & 9 & BMG & 0.3550998\\\\\n",
       "\t391 & 9 & D98 & 0.2158838\\\\\n",
       "\t392 & 9 & B04 & 0.5127364\\\\\n",
       "\t393 & 9 & BSC & 0.2418702\\\\\n",
       "\t394 & 9 & FCB & 0.8078219\\\\\n",
       "\t395 & 9 & TSG & 0.178802\\\\\n",
       "\t396 & 9 & BVB & 0.6435399\\\\\n",
       "\\end{tabular}\n"
      ],
      "text/plain": [
       "    matchday Club       Prob\n",
       "154        9  VFB 0.51774541\n",
       "155        9  KOE 0.52309907\n",
       "156        9  SGE 0.37018122\n",
       "157        9  FCA 0.51257968\n",
       "158        9  HSV 0.22092558\n",
       "159        9  S04 0.48991058\n",
       "160        9  BRE 0.06434458\n",
       "161        9  WOB 0.59748753\n",
       "162        9  M05 0.15244427\n",
       "388        9  FCI 0.22751283\n",
       "389        9  H96 0.21463482\n",
       "390        9  BMG 0.35509976\n",
       "391        9  D98 0.21588378\n",
       "392        9  B04 0.51273637\n",
       "393        9  BSC 0.24187021\n",
       "394        9  FCB 0.80782190\n",
       "395        9  TSG 0.17880203\n",
       "396        9  BVB 0.64353989"
      ]
     },
     "execution_count": 10,
     "metadata": {},
     "output_type": "execute_result"
    }
   ],
   "source": [
    "#odds['matchday']\n",
    "\n",
    "probs.home <- odds[c('matchday', 'HOMETEAM', 'Hprob')]\n",
    "probs.away <- odds[c('matchday', 'AWAYTEAM', 'Aprob')]\n",
    "names <- c(\"matchday\", \"Club\", \"Prob\")\n",
    "colnames(probs.home) <- names\n",
    "colnames(probs.away) <- names\n",
    "probs <- rbind(probs.home, probs.away)\n",
    "subset(probs, probs$matchday == 9)"
   ]
  },
  {
   "cell_type": "code",
   "execution_count": 11,
   "metadata": {
    "collapsed": false
   },
   "outputs": [
    {
     "data": {
      "text/html": [
       "<table>\n",
       "<thead><tr><th></th><th scope=col>matchday</th><th scope=col>Club</th><th scope=col>home</th><th scope=col>earnings</th></tr></thead>\n",
       "<tbody>\n",
       "\t<tr><th scope=row>1</th><td>19</td><td>B04</td><td>0</td><td>155714.3</td></tr>\n",
       "\t<tr><th scope=row>2</th><td>19</td><td>BMG</td><td>NA</td><td>40272.73</td></tr>\n",
       "\t<tr><th scope=row>3</th><td>19</td><td>BRE</td><td>0</td><td>87272.73</td></tr>\n",
       "\t<tr><th scope=row>4</th><td>19</td><td>BSC</td><td>0</td><td>78461.54</td></tr>\n",
       "\t<tr><th scope=row>5</th><td>19</td><td>BVB</td><td>NA</td><td>144625</td></tr>\n",
       "\t<tr><th scope=row>6</th><td>19</td><td>D98</td><td>0</td><td>7192.308</td></tr>\n",
       "\t<tr><th scope=row>7</th><td>19</td><td>FCA</td><td>NA</td><td>75142.86</td></tr>\n",
       "\t<tr><th scope=row>8</th><td>19</td><td>FCB</td><td>NA</td><td>138071.4</td></tr>\n",
       "\t<tr><th scope=row>9</th><td>19</td><td>FCI</td><td>0</td><td>10076.92</td></tr>\n",
       "\t<tr><th scope=row>10</th><td>19</td><td>H96</td><td>0</td><td>-2888.889</td></tr>\n",
       "\t<tr><th scope=row>11</th><td>19</td><td>HSV</td><td>NA</td><td>32846.15</td></tr>\n",
       "\t<tr><th scope=row>12</th><td>19</td><td>KOE</td><td>NA</td><td>61500</td></tr>\n",
       "\t<tr><th scope=row>13</th><td>19</td><td>M05</td><td>NA</td><td>114269.2</td></tr>\n",
       "\t<tr><th scope=row>14</th><td>19</td><td>S04</td><td>0</td><td>140125</td></tr>\n",
       "\t<tr><th scope=row>15</th><td>19</td><td>SGE</td><td>NA</td><td>91500</td></tr>\n",
       "\t<tr><th scope=row>16</th><td>19</td><td>TSG</td><td>NA</td><td>10269.23</td></tr>\n",
       "\t<tr><th scope=row>17</th><td>19</td><td>VFB</td><td>NA</td><td>94550</td></tr>\n",
       "\t<tr><th scope=row>18</th><td>19</td><td>WOB</td><td>NA</td><td>68500</td></tr>\n",
       "</tbody>\n",
       "</table>\n"
      ],
      "text/latex": [
       "\\begin{tabular}{r|llll}\n",
       "  & matchday & Club & home & earnings\\\\\n",
       "\\hline\n",
       "\t1 & 19 & B04 & 0 & 155714.3\\\\\n",
       "\t2 & 19 & BMG & NA & 40272.73\\\\\n",
       "\t3 & 19 & BRE & 0 & 87272.73\\\\\n",
       "\t4 & 19 & BSC & 0 & 78461.54\\\\\n",
       "\t5 & 19 & BVB & NA & 144625\\\\\n",
       "\t6 & 19 & D98 & 0 & 7192.308\\\\\n",
       "\t7 & 19 & FCA & NA & 75142.86\\\\\n",
       "\t8 & 19 & FCB & NA & 138071.4\\\\\n",
       "\t9 & 19 & FCI & 0 & 10076.92\\\\\n",
       "\t10 & 19 & H96 & 0 & -2888.889\\\\\n",
       "\t11 & 19 & HSV & NA & 32846.15\\\\\n",
       "\t12 & 19 & KOE & NA & 61500\\\\\n",
       "\t13 & 19 & M05 & NA & 114269.2\\\\\n",
       "\t14 & 19 & S04 & 0 & 140125\\\\\n",
       "\t15 & 19 & SGE & NA & 91500\\\\\n",
       "\t16 & 19 & TSG & NA & 10269.23\\\\\n",
       "\t17 & 19 & VFB & NA & 94550\\\\\n",
       "\t18 & 19 & WOB & NA & 68500\\\\\n",
       "\\end{tabular}\n"
      ],
      "text/plain": [
       "Source: local data frame [18 x 4]\n",
       "\n",
       "   matchday   Club  home   earnings\n",
       "      (int) (fctr) (dbl)      (dbl)\n",
       "1        19    B04     0 155714.286\n",
       "2        19    BMG    NA  40272.727\n",
       "3        19    BRE     0  87272.727\n",
       "4        19    BSC     0  78461.538\n",
       "5        19    BVB    NA 144625.000\n",
       "6        19    D98     0   7192.308\n",
       "7        19    FCA    NA  75142.857\n",
       "8        19    FCB    NA 138071.429\n",
       "9        19    FCI     0  10076.923\n",
       "10       19    H96     0  -2888.889\n",
       "11       19    HSV    NA  32846.154\n",
       "12       19    KOE    NA  61500.000\n",
       "13       19    M05    NA 114269.231\n",
       "14       19    S04     0 140125.000\n",
       "15       19    SGE    NA  91500.000\n",
       "16       19    TSG    NA  10269.231\n",
       "17       19    VFB    NA  94550.000\n",
       "18       19    WOB    NA  68500.000"
      ]
     },
     "execution_count": 11,
     "metadata": {},
     "output_type": "execute_result"
    }
   ],
   "source": [
    "subset(plm.clubmatches, plm.clubmatches$matchday == 19)"
   ]
  },
  {
   "cell_type": "code",
   "execution_count": 12,
   "metadata": {
    "collapsed": false
   },
   "outputs": [
    {
     "name": "stderr",
     "output_type": "stream",
     "text": [
      "Loading required package: gsubfn\n",
      "Loading required package: proto\n",
      "Warning message:\n",
      "In doTryCatch(return(expr), name, parentenv, handler): unable to load shared object '/home/pi/anaconda2/lib64/R/modules//R_X11.so':\n",
      "  libSM.so.6: cannot open shared object file: No such file or directoryCould not load tcltk.  Will use slower R code instead.\n",
      "Loading required package: RSQLite\n",
      "Loading required package: DBI\n"
     ]
    }
   ],
   "source": [
    "library(\"sqldf\")"
   ]
  },
  {
   "cell_type": "code",
   "execution_count": 13,
   "metadata": {
    "collapsed": false
   },
   "outputs": [
    {
     "data": {
      "text/html": [
       "<table>\n",
       "<thead><tr><th></th><th scope=col>matchday</th><th scope=col>Club</th><th scope=col>home</th><th scope=col>earnings</th><th scope=col>Prob</th></tr></thead>\n",
       "<tbody>\n",
       "\t<tr><th scope=row>325</th><td>19</td><td>B04</td><td>0</td><td>155714.3</td><td>0.7512845</td></tr>\n",
       "\t<tr><th scope=row>326</th><td>19</td><td>BMG</td><td>NA</td><td>40272.73</td><td>0.3321818</td></tr>\n",
       "\t<tr><th scope=row>327</th><td>19</td><td>BRE</td><td>0</td><td>87272.73</td><td>0.3810197</td></tr>\n",
       "\t<tr><th scope=row>328</th><td>19</td><td>BSC</td><td>0</td><td>78461.54</td><td>0.3309202</td></tr>\n",
       "\t<tr><th scope=row>329</th><td>19</td><td>BVB</td><td>NA</td><td>144625</td><td>0.7535926</td></tr>\n",
       "\t<tr><th scope=row>330</th><td>19</td><td>D98</td><td>0</td><td>7192.308</td><td>0.3015563</td></tr>\n",
       "\t<tr><th scope=row>331</th><td>19</td><td>FCA</td><td>NA</td><td>75142.86</td><td>0.485737</td></tr>\n",
       "\t<tr><th scope=row>332</th><td>19</td><td>FCB</td><td>NA</td><td>138071.4</td><td>0.8798644</td></tr>\n",
       "\t<tr><th scope=row>333</th><td>19</td><td>FCI</td><td>0</td><td>10076.92</td><td>0.07835893</td></tr>\n",
       "\t<tr><th scope=row>334</th><td>19</td><td>H96</td><td>0</td><td>-2888.889</td><td>0.0905503</td></tr>\n",
       "\t<tr><th scope=row>335</th><td>19</td><td>HSV</td><td>NA</td><td>32846.15</td><td>0.2338029</td></tr>\n",
       "\t<tr><th scope=row>336</th><td>19</td><td>KOE</td><td>NA</td><td>61500</td><td>0.1725836</td></tr>\n",
       "\t<tr><th scope=row>337</th><td>19</td><td>M05</td><td>NA</td><td>114269.2</td><td>0.3936969</td></tr>\n",
       "\t<tr><th scope=row>338</th><td>19</td><td>S04</td><td>0</td><td>140125</td><td>0.4156232</td></tr>\n",
       "\t<tr><th scope=row>339</th><td>19</td><td>SGE</td><td>NA</td><td>91500</td><td>0.2491932</td></tr>\n",
       "\t<tr><th scope=row>340</th><td>19</td><td>TSG</td><td>NA</td><td>10269.23</td><td>0.03717257</td></tr>\n",
       "\t<tr><th scope=row>341</th><td>19</td><td>VFB</td><td>NA</td><td>94550</td><td>0.5098892</td></tr>\n",
       "\t<tr><th scope=row>342</th><td>19</td><td>WOB</td><td>NA</td><td>68500</td><td>0.5949311</td></tr>\n",
       "</tbody>\n",
       "</table>\n"
      ],
      "text/latex": [
       "\\begin{tabular}{r|lllll}\n",
       "  & matchday & Club & home & earnings & Prob\\\\\n",
       "\\hline\n",
       "\t325 & 19 & B04 & 0 & 155714.3 & 0.7512845\\\\\n",
       "\t326 & 19 & BMG & NA & 40272.73 & 0.3321818\\\\\n",
       "\t327 & 19 & BRE & 0 & 87272.73 & 0.3810197\\\\\n",
       "\t328 & 19 & BSC & 0 & 78461.54 & 0.3309202\\\\\n",
       "\t329 & 19 & BVB & NA & 144625 & 0.7535926\\\\\n",
       "\t330 & 19 & D98 & 0 & 7192.308 & 0.3015563\\\\\n",
       "\t331 & 19 & FCA & NA & 75142.86 & 0.485737\\\\\n",
       "\t332 & 19 & FCB & NA & 138071.4 & 0.8798644\\\\\n",
       "\t333 & 19 & FCI & 0 & 10076.92 & 0.07835893\\\\\n",
       "\t334 & 19 & H96 & 0 & -2888.889 & 0.0905503\\\\\n",
       "\t335 & 19 & HSV & NA & 32846.15 & 0.2338029\\\\\n",
       "\t336 & 19 & KOE & NA & 61500 & 0.1725836\\\\\n",
       "\t337 & 19 & M05 & NA & 114269.2 & 0.3936969\\\\\n",
       "\t338 & 19 & S04 & 0 & 140125 & 0.4156232\\\\\n",
       "\t339 & 19 & SGE & NA & 91500 & 0.2491932\\\\\n",
       "\t340 & 19 & TSG & NA & 10269.23 & 0.03717257\\\\\n",
       "\t341 & 19 & VFB & NA & 94550 & 0.5098892\\\\\n",
       "\t342 & 19 & WOB & NA & 68500 & 0.5949311\\\\\n",
       "\\end{tabular}\n"
      ],
      "text/plain": [
       "    matchday Club home   earnings       Prob\n",
       "325       19  B04    0 155714.286 0.75128453\n",
       "326       19  BMG   NA  40272.727 0.33218176\n",
       "327       19  BRE    0  87272.727 0.38101970\n",
       "328       19  BSC    0  78461.538 0.33092022\n",
       "329       19  BVB   NA 144625.000 0.75359255\n",
       "330       19  D98    0   7192.308 0.30155627\n",
       "331       19  FCA   NA  75142.857 0.48573701\n",
       "332       19  FCB   NA 138071.429 0.87986444\n",
       "333       19  FCI    0  10076.923 0.07835893\n",
       "334       19  H96    0  -2888.889 0.09055030\n",
       "335       19  HSV   NA  32846.154 0.23380285\n",
       "336       19  KOE   NA  61500.000 0.17258363\n",
       "337       19  M05   NA 114269.231 0.39369690\n",
       "338       19  S04    0 140125.000 0.41562321\n",
       "339       19  SGE   NA  91500.000 0.24919321\n",
       "340       19  TSG   NA  10269.231 0.03717257\n",
       "341       19  VFB   NA  94550.000 0.50988920\n",
       "342       19  WOB   NA  68500.000 0.59493114"
      ]
     },
     "execution_count": 13,
     "metadata": {},
     "output_type": "execute_result"
    }
   ],
   "source": [
    "clubmatches <- plm.clubmatches\n",
    "\n",
    "earnings_probs <- sqldf(\"SELECT t1.matchday AS matchday, t1.Club AS Club, home, earnings, Prob\n",
    "                         FROM clubmatches t1 JOIN probs t2\n",
    "                         ON t1.matchday = t2.matchday AND t1.Club = t2.Club\")\n",
    "#earnings_probs <- merge(plm.clubmatches, probs, by = c(\"matchday\", \"Club\"))\n",
    "subset(earnings_probs, earnings_probs$matchday == 19)"
   ]
  },
  {
   "cell_type": "code",
   "execution_count": 14,
   "metadata": {
    "collapsed": false
   },
   "outputs": [
    {
     "ename": "ERROR",
     "evalue": "Error in file(con, \"rb\"): cannot open the connection\n",
     "output_type": "error",
     "traceback": [
      "Error in file(con, \"rb\"): cannot open the connection\n"
     ]
    },
    {
     "ename": "ERROR",
     "evalue": "Error in file(con, \"rb\"): cannot open the connection\n",
     "output_type": "error",
     "traceback": [
      "Error in file(con, \"rb\"): cannot open the connection\n"
     ]
    },
    {
     "data": {
      "text/plain": [
       "plot without title"
      ]
     },
     "metadata": {
      "image/svg+xml": {
       "isolated": true
      }
     },
     "output_type": "display_data"
    }
   ],
   "source": [
    "library(\"ggplot2\")\n",
    "ggplot(data = earnings_probs, aes(x = Prob, y = earnings)) +\n",
    "geom_point() +\n",
    "geom_smooth()"
   ]
  },
  {
   "cell_type": "code",
   "execution_count": 15,
   "metadata": {
    "collapsed": false
   },
   "outputs": [],
   "source": [
    "## Add prob at individual player level\n",
    "plm.merge <- merge(plm, earnings_probs, by = c(\"matchday\", \"Club\"), all.x = TRUE)"
   ]
  },
  {
   "cell_type": "code",
   "execution_count": 16,
   "metadata": {
    "collapsed": false
   },
   "outputs": [
    {
     "name": "stderr",
     "output_type": "stream",
     "text": [
      "Warning message:\n",
      ": Removed 143 rows containing non-finite values (stat_smooth).Warning message:\n",
      ": Removed 143 rows containing missing values (geom_point)."
     ]
    },
    {
     "ename": "ERROR",
     "evalue": "Error in file(con, \"rb\"): cannot open the connection\n",
     "output_type": "error",
     "traceback": [
      "Error in file(con, \"rb\"): cannot open the connection\n"
     ]
    },
    {
     "ename": "ERROR",
     "evalue": "Error in file(con, \"rb\"): cannot open the connection\n",
     "output_type": "error",
     "traceback": [
      "Error in file(con, \"rb\"): cannot open the connection\n"
     ]
    },
    {
     "data": {
      "text/plain": [
       "plot without title"
      ]
     },
     "metadata": {
      "image/svg+xml": {
       "isolated": true
      }
     },
     "output_type": "display_data"
    }
   ],
   "source": [
    "#options(jupyter.plot_mimetypes = 'image/png')\n",
    "\n",
    "ggplot(data = subset(plm.merge, plm.merge$time_on_pitch > 0), aes(x=Prob, y = total_earnings)) +\n",
    "geom_point() +\n",
    "geom_smooth()"
   ]
  },
  {
   "cell_type": "markdown",
   "metadata": {},
   "source": [
    "## Regression model to predict earnings"
   ]
  },
  {
   "cell_type": "code",
   "execution_count": 17,
   "metadata": {
    "collapsed": false
   },
   "outputs": [],
   "source": [
    "load(\"starter_probs.RData\")\n",
    "plm.merge <- merge(plm.merge, starter_probs, by = c(\"id\", \"matchday\") )"
   ]
  },
  {
   "cell_type": "code",
   "execution_count": 18,
   "metadata": {
    "collapsed": false
   },
   "outputs": [
    {
     "data": {
      "text/html": [
       "<table>\n",
       "<thead><tr><th></th><th scope=col>id</th><th scope=col>matchday</th><th scope=col>Club</th><th scope=col>assist</th><th scope=col>clean_sheet</th><th scope=col>goal</th><th scope=col>game_play_duration</th><th scope=col>total_earnings</th><th scope=col>away_shortname</th><th scope=col>away_squad</th><th scope=col>away_score</th><th scope=col>time_on_pitch</th><th scope=col>status</th><th scope=col>match_id</th><th scope=col>period</th><th scope=col>finished</th><th scope=col>home_shortname</th><th scope=col>home_squad</th><th scope=col>home_score</th><th scope=col>in_for_player</th><th scope=col>sub_in_timestamp</th><th scope=col>sub_in_minutes</th><th scope=col>sub_out_minutes</th><th scope=col>sub_out_timestamp</th><th scope=col>shot_on_target</th><th scope=col>attempt_saved</th><th scope=col>successful_pass</th><th scope=col>Name</th><th scope=col>init_Value</th><th scope=col>Pos</th><th scope=col>home</th><th scope=col>earnings</th><th scope=col>Prob</th><th scope=col>0</th><th scope=col>probStarter</th></tr></thead>\n",
       "<tbody>\n",
       "\t<tr><th scope=row>1</th><td>64467</td><td>10</td><td>KOE</td><td>NA</td><td>0</td><td>NA</td><td>90</td><td>35000</td><td>NA</td><td>1562</td><td>0</td><td>90</td><td>starter</td><td>8851</td><td>FullTime</td><td>True</td><td>NA</td><td>1569</td><td>4</td><td>NA</td><td>1445693400</td><td>0</td><td>NA</td><td>NA</td><td>NA</td><td>9</td><td>25</td><td>T. Horn</td><td>8.5</td><td>GOA</td><td>NA</td><td>-12428.57</td><td>0.04887098</td><td>0</td><td>1</td></tr>\n",
       "\t<tr><th scope=row>2</th><td>64467</td><td>11</td><td>KOE</td><td>NA</td><td>1</td><td>NA</td><td>90</td><td>128500</td><td>NA</td><td>1577</td><td>0</td><td>90</td><td>starter</td><td>8838</td><td>FullTime</td><td>True</td><td>NA</td><td>1562</td><td>0</td><td>NA</td><td>1446301800</td><td>0</td><td>NA</td><td>NA</td><td>NA</td><td>4</td><td>35</td><td>T. Horn</td><td>8.5</td><td>GOA</td><td>NA</td><td>86923.08</td><td>0.4388674</td><td>0.003996004</td><td>0.996004</td></tr>\n",
       "\t<tr><th scope=row>3</th><td>64467</td><td>12</td><td>KOE</td><td>NA</td><td>0</td><td>NA</td><td>90</td><td>82500</td><td>NA</td><td>1562</td><td>2</td><td>90</td><td>starter</td><td>8866</td><td>FullTime</td><td>True</td><td>KOE</td><td>1564</td><td>1</td><td>NA</td><td>1446906600</td><td>0</td><td>NA</td><td>NA</td><td>NA</td><td>3</td><td>23</td><td>T. Horn</td><td>8.5</td><td>GOA</td><td>1</td><td>94153.85</td><td>0.1563186</td><td>0</td><td>1</td></tr>\n",
       "\t<tr><th scope=row>4</th><td>64467</td><td>13</td><td>KOE</td><td>NA</td><td>1</td><td>NA</td><td>90</td><td>116500</td><td>NA</td><td>1563</td><td>0</td><td>90</td><td>starter</td><td>8856</td><td>FullTime</td><td>True</td><td>NA</td><td>1562</td><td>0</td><td>NA</td><td>1448116200</td><td>0</td><td>NA</td><td>NA</td><td>NA</td><td>1</td><td>26</td><td>T. Horn</td><td>8.5</td><td>GOA</td><td>NA</td><td>80500</td><td>0.445153</td><td>0</td><td>1</td></tr>\n",
       "\t<tr><th scope=row>5</th><td>64467</td><td>14</td><td>KOE</td><td>NA</td><td>1</td><td>NA</td><td>90</td><td>126000</td><td>NA</td><td>1562</td><td>0</td><td>90</td><td>starter</td><td>8889</td><td>FullTime</td><td>True</td><td>KOE</td><td>1575</td><td>0</td><td>NA</td><td>1448652600</td><td>0</td><td>NA</td><td>NA</td><td>NA</td><td>1</td><td>23</td><td>T. Horn</td><td>8.5</td><td>GOA</td><td>1</td><td>78142.86</td><td>0.3889625</td><td>0</td><td>1</td></tr>\n",
       "\t<tr><th scope=row>6</th><td>64467</td><td>15</td><td>KOE</td><td>NA</td><td>0</td><td>NA</td><td>90</td><td>57000</td><td>NA</td><td>1568</td><td>1</td><td>90</td><td>starter</td><td>8874</td><td>FullTime</td><td>True</td><td>NA</td><td>1562</td><td>0</td><td>NA</td><td>1449325800</td><td>0</td><td>NA</td><td>NA</td><td>NA</td><td>7</td><td>31</td><td>T. Horn</td><td>8.5</td><td>GOA</td><td>NA</td><td>23964.29</td><td>0.4198473</td><td>0</td><td>1</td></tr>\n",
       "\t<tr><th scope=row>7</th><td>64467</td><td>16</td><td>KOE</td><td>NA</td><td>0</td><td>NA</td><td>90</td><td>131000</td><td>NA</td><td>1562</td><td>1</td><td>90</td><td>starter</td><td>8907</td><td>FullTime</td><td>True</td><td>KOE</td><td>1576</td><td>1</td><td>NA</td><td>1449930600</td><td>0</td><td>NA</td><td>NA</td><td>NA</td><td>5</td><td>23</td><td>T. Horn</td><td>8.5</td><td>GOA</td><td>1</td><td>67076.92</td><td>0.3525251</td><td>0</td><td>1</td></tr>\n",
       "\t<tr><th scope=row>8</th><td>64467</td><td>17</td><td>KOE</td><td>NA</td><td>0</td><td>NA</td><td>90</td><td>66000</td><td>KOE</td><td>1565</td><td>1</td><td>90</td><td>starter</td><td>8892</td><td>FullTime</td><td>True</td><td>NA</td><td>1562</td><td>2</td><td>NA</td><td>1450535400</td><td>0</td><td>NA</td><td>NA</td><td>NA</td><td>2</td><td>15</td><td>T. Horn</td><td>8.5</td><td>GOA</td><td>NA</td><td>87115.38</td><td>0.1591019</td><td>0</td><td>1</td></tr>\n",
       "\t<tr><th scope=row>9</th><td>64467</td><td>18</td><td>KOE</td><td>NA</td><td>0</td><td>NA</td><td>90</td><td>28500</td><td>NA</td><td>1578</td><td>3</td><td>90</td><td>starter</td><td>8919</td><td>FullTime</td><td>True</td><td>NA</td><td>1562</td><td>1</td><td>NA</td><td>1453559400</td><td>0</td><td>NA</td><td>NA</td><td>NA</td><td>5</td><td>29</td><td>T. Horn</td><td>8.5</td><td>GOA</td><td>NA</td><td>32769.23</td><td>0.4584521</td><td>0</td><td>1</td></tr>\n",
       "\t<tr><th scope=row>10</th><td>64467</td><td>19</td><td>KOE</td><td>NA</td><td>0</td><td>NA</td><td>90</td><td>49000</td><td>NA</td><td>1562</td><td>1</td><td>90</td><td>starter</td><td>8918</td><td>FullTime</td><td>True</td><td>NA</td><td>1579</td><td>1</td><td>NA</td><td>1454250600</td><td>0</td><td>NA</td><td>NA</td><td>NA</td><td>4</td><td>16</td><td>T. Horn</td><td>8.5</td><td>GOA</td><td>NA</td><td>61500</td><td>0.1725836</td><td>0</td><td>1</td></tr>\n",
       "\t<tr><th scope=row>11</th><td>64467</td><td>20</td><td>KOE</td><td>NA</td><td>0</td><td>NA</td><td>90</td><td>62500</td><td>NA</td><td>1562</td><td>1</td><td>90</td><td>starter</td><td>8708</td><td>FullTime</td><td>True</td><td>NA</td><td>1572</td><td>1</td><td>NA</td><td>1454855400</td><td>0</td><td>NA</td><td>NA</td><td>NA</td><td>3</td><td>18</td><td>T. Horn</td><td>8.5</td><td>GOA</td><td>NA</td><td>84166.67</td><td>0.362434</td><td>0.000999001</td><td>0.999001</td></tr>\n",
       "\t<tr><th scope=row>12</th><td>64467</td><td>21</td><td>KOE</td><td>NA</td><td>0</td><td>NA</td><td>90</td><td>98500</td><td>NA</td><td>1567</td><td>1</td><td>90</td><td>starter</td><td>8712</td><td>FullTime</td><td>True</td><td>NA</td><td>1562</td><td>3</td><td>NA</td><td>1455384600</td><td>0</td><td>NA</td><td>NA</td><td>NA</td><td>3</td><td>29</td><td>T. Horn</td><td>8.5</td><td>GOA</td><td>NA</td><td>119083.3</td><td>0.5583728</td><td>0.003996004</td><td>0.996004</td></tr>\n",
       "\t<tr><th scope=row>13</th><td>64467</td><td>22</td><td>KOE</td><td>NA</td><td>0</td><td>NA</td><td>90</td><td>38500</td><td>NA</td><td>1562</td><td>0</td><td>90</td><td>starter</td><td>8722</td><td>FullTime</td><td>True</td><td>KOE</td><td>1566</td><td>1</td><td>NA</td><td>1455978600</td><td>0</td><td>NA</td><td>NA</td><td>NA</td><td>4</td><td>25</td><td>T. Horn</td><td>8.5</td><td>GOA</td><td>1</td><td>22083.33</td><td>0.2932642</td><td>0.000999001</td><td>0.999001</td></tr>\n",
       "\t<tr><th scope=row>14</th><td>64467</td><td>5</td><td>KOE</td><td>NA</td><td>1</td><td>NA</td><td>90</td><td>158000</td><td>KOE</td><td>1566</td><td>0</td><td>90</td><td>starter</td><td>8784</td><td>FullTime</td><td>True</td><td>NA</td><td>1562</td><td>1</td><td>NA</td><td>1442669400</td><td>0</td><td>NA</td><td>NA</td><td>NA</td><td>2</td><td>20</td><td>T. Horn</td><td>8.5</td><td>GOA</td><td>NA</td><td>117857.1</td><td>0.3885126</td><td>0.002997003</td><td>0.997003</td></tr>\n",
       "\t<tr><th scope=row>15</th><td>64467</td><td>6</td><td>KOE</td><td>NA</td><td>0</td><td>NA</td><td>90</td><td>43500</td><td>NA</td><td>1562</td><td>0</td><td>90</td><td>starter</td><td>8817</td><td>FullTime</td><td>True</td><td>KOE</td><td>1574</td><td>2</td><td>NA</td><td>1442944800</td><td>0</td><td>NA</td><td>NA</td><td>NA</td><td>6</td><td>25</td><td>T. Horn</td><td>8.5</td><td>GOA</td><td>1</td><td>25035.71</td><td>0.3231654</td><td>0</td><td>1</td></tr>\n",
       "\t<tr><th scope=row>16</th><td>64467</td><td>7</td><td>KOE</td><td>NA</td><td>0</td><td>NA</td><td>90</td><td>56500</td><td>NA</td><td>1570</td><td>1</td><td>90</td><td>starter</td><td>8802</td><td>FullTime</td><td>True</td><td>NA</td><td>1562</td><td>1</td><td>NA</td><td>1443205800</td><td>0</td><td>NA</td><td>NA</td><td>NA</td><td>4</td><td>26</td><td>T. Horn</td><td>8.5</td><td>GOA</td><td>NA</td><td>74625</td><td>0.4558647</td><td>0</td><td>1</td></tr>\n",
       "\t<tr><th scope=row>17</th><td>64467</td><td>8</td><td>KOE</td><td>NA</td><td>1</td><td>NA</td><td>90</td><td>195000</td><td>NA</td><td>1562</td><td>3</td><td>90</td><td>starter</td><td>8833</td><td>FullTime</td><td>True</td><td>NA</td><td>1571</td><td>0</td><td>NA</td><td>1443965400</td><td>0</td><td>NA</td><td>NA</td><td>NA</td><td>7</td><td>14</td><td>T. Horn</td><td>8.5</td><td>GOA</td><td>NA</td><td>141571.4</td><td>0.2034758</td><td>0</td><td>1</td></tr>\n",
       "\t<tr><th scope=row>18</th><td>64467</td><td>9</td><td>KOE</td><td>NA</td><td>0</td><td>NA</td><td>90</td><td>9000</td><td>NA</td><td>1573</td><td>1</td><td>90</td><td>starter</td><td>8820</td><td>FullTime</td><td>True</td><td>NA</td><td>1562</td><td>0</td><td>NA</td><td>1445175000</td><td>0</td><td>NA</td><td>NA</td><td>NA</td><td>3</td><td>15</td><td>T. Horn</td><td>8.5</td><td>GOA</td><td>NA</td><td>25964.29</td><td>0.5230991</td><td>0</td><td>1</td></tr>\n",
       "</tbody>\n",
       "</table>\n"
      ],
      "text/latex": [
       "\\begin{tabular}{r|lllllllllllllllllllllllllllllllllll}\n",
       "  & id & matchday & Club & assist & clean_sheet & goal & game_play_duration & total_earnings & away_shortname & away_squad & away_score & time_on_pitch & status & match_id & period & finished & home_shortname & home_squad & home_score & in_for_player & sub_in_timestamp & sub_in_minutes & sub_out_minutes & sub_out_timestamp & shot_on_target & attempt_saved & successful_pass & Name & init_Value & Pos & home & earnings & Prob & 0 & probStarter\\\\\n",
       "\\hline\n",
       "\t1 & 64467 & 10 & KOE & NA & 0 & NA & 90 & 35000 & NA & 1562 & 0 & 90 & starter & 8851 & FullTime & True & NA & 1569 & 4 & NA & 1445693400 & 0 & NA & NA & NA & 9 & 25 & T. Horn & 8.5 & GOA & NA & -12428.57 & 0.04887098 & 0 & 1\\\\\n",
       "\t2 & 64467 & 11 & KOE & NA & 1 & NA & 90 & 128500 & NA & 1577 & 0 & 90 & starter & 8838 & FullTime & True & NA & 1562 & 0 & NA & 1446301800 & 0 & NA & NA & NA & 4 & 35 & T. Horn & 8.5 & GOA & NA & 86923.08 & 0.4388674 & 0.003996004 & 0.996004\\\\\n",
       "\t3 & 64467 & 12 & KOE & NA & 0 & NA & 90 & 82500 & NA & 1562 & 2 & 90 & starter & 8866 & FullTime & True & KOE & 1564 & 1 & NA & 1446906600 & 0 & NA & NA & NA & 3 & 23 & T. Horn & 8.5 & GOA & 1 & 94153.85 & 0.1563186 & 0 & 1\\\\\n",
       "\t4 & 64467 & 13 & KOE & NA & 1 & NA & 90 & 116500 & NA & 1563 & 0 & 90 & starter & 8856 & FullTime & True & NA & 1562 & 0 & NA & 1448116200 & 0 & NA & NA & NA & 1 & 26 & T. Horn & 8.5 & GOA & NA & 80500 & 0.445153 & 0 & 1\\\\\n",
       "\t5 & 64467 & 14 & KOE & NA & 1 & NA & 90 & 126000 & NA & 1562 & 0 & 90 & starter & 8889 & FullTime & True & KOE & 1575 & 0 & NA & 1448652600 & 0 & NA & NA & NA & 1 & 23 & T. Horn & 8.5 & GOA & 1 & 78142.86 & 0.3889625 & 0 & 1\\\\\n",
       "\t6 & 64467 & 15 & KOE & NA & 0 & NA & 90 & 57000 & NA & 1568 & 1 & 90 & starter & 8874 & FullTime & True & NA & 1562 & 0 & NA & 1449325800 & 0 & NA & NA & NA & 7 & 31 & T. Horn & 8.5 & GOA & NA & 23964.29 & 0.4198473 & 0 & 1\\\\\n",
       "\t7 & 64467 & 16 & KOE & NA & 0 & NA & 90 & 131000 & NA & 1562 & 1 & 90 & starter & 8907 & FullTime & True & KOE & 1576 & 1 & NA & 1449930600 & 0 & NA & NA & NA & 5 & 23 & T. Horn & 8.5 & GOA & 1 & 67076.92 & 0.3525251 & 0 & 1\\\\\n",
       "\t8 & 64467 & 17 & KOE & NA & 0 & NA & 90 & 66000 & KOE & 1565 & 1 & 90 & starter & 8892 & FullTime & True & NA & 1562 & 2 & NA & 1450535400 & 0 & NA & NA & NA & 2 & 15 & T. Horn & 8.5 & GOA & NA & 87115.38 & 0.1591019 & 0 & 1\\\\\n",
       "\t9 & 64467 & 18 & KOE & NA & 0 & NA & 90 & 28500 & NA & 1578 & 3 & 90 & starter & 8919 & FullTime & True & NA & 1562 & 1 & NA & 1453559400 & 0 & NA & NA & NA & 5 & 29 & T. Horn & 8.5 & GOA & NA & 32769.23 & 0.4584521 & 0 & 1\\\\\n",
       "\t10 & 64467 & 19 & KOE & NA & 0 & NA & 90 & 49000 & NA & 1562 & 1 & 90 & starter & 8918 & FullTime & True & NA & 1579 & 1 & NA & 1454250600 & 0 & NA & NA & NA & 4 & 16 & T. Horn & 8.5 & GOA & NA & 61500 & 0.1725836 & 0 & 1\\\\\n",
       "\t11 & 64467 & 20 & KOE & NA & 0 & NA & 90 & 62500 & NA & 1562 & 1 & 90 & starter & 8708 & FullTime & True & NA & 1572 & 1 & NA & 1454855400 & 0 & NA & NA & NA & 3 & 18 & T. Horn & 8.5 & GOA & NA & 84166.67 & 0.362434 & 0.000999001 & 0.999001\\\\\n",
       "\t12 & 64467 & 21 & KOE & NA & 0 & NA & 90 & 98500 & NA & 1567 & 1 & 90 & starter & 8712 & FullTime & True & NA & 1562 & 3 & NA & 1455384600 & 0 & NA & NA & NA & 3 & 29 & T. Horn & 8.5 & GOA & NA & 119083.3 & 0.5583728 & 0.003996004 & 0.996004\\\\\n",
       "\t13 & 64467 & 22 & KOE & NA & 0 & NA & 90 & 38500 & NA & 1562 & 0 & 90 & starter & 8722 & FullTime & True & KOE & 1566 & 1 & NA & 1455978600 & 0 & NA & NA & NA & 4 & 25 & T. Horn & 8.5 & GOA & 1 & 22083.33 & 0.2932642 & 0.000999001 & 0.999001\\\\\n",
       "\t14 & 64467 & 5 & KOE & NA & 1 & NA & 90 & 158000 & KOE & 1566 & 0 & 90 & starter & 8784 & FullTime & True & NA & 1562 & 1 & NA & 1442669400 & 0 & NA & NA & NA & 2 & 20 & T. Horn & 8.5 & GOA & NA & 117857.1 & 0.3885126 & 0.002997003 & 0.997003\\\\\n",
       "\t15 & 64467 & 6 & KOE & NA & 0 & NA & 90 & 43500 & NA & 1562 & 0 & 90 & starter & 8817 & FullTime & True & KOE & 1574 & 2 & NA & 1442944800 & 0 & NA & NA & NA & 6 & 25 & T. Horn & 8.5 & GOA & 1 & 25035.71 & 0.3231654 & 0 & 1\\\\\n",
       "\t16 & 64467 & 7 & KOE & NA & 0 & NA & 90 & 56500 & NA & 1570 & 1 & 90 & starter & 8802 & FullTime & True & NA & 1562 & 1 & NA & 1443205800 & 0 & NA & NA & NA & 4 & 26 & T. Horn & 8.5 & GOA & NA & 74625 & 0.4558647 & 0 & 1\\\\\n",
       "\t17 & 64467 & 8 & KOE & NA & 1 & NA & 90 & 195000 & NA & 1562 & 3 & 90 & starter & 8833 & FullTime & True & NA & 1571 & 0 & NA & 1443965400 & 0 & NA & NA & NA & 7 & 14 & T. Horn & 8.5 & GOA & NA & 141571.4 & 0.2034758 & 0 & 1\\\\\n",
       "\t18 & 64467 & 9 & KOE & NA & 0 & NA & 90 & 9000 & NA & 1573 & 1 & 90 & starter & 8820 & FullTime & True & NA & 1562 & 0 & NA & 1445175000 & 0 & NA & NA & NA & 3 & 15 & T. Horn & 8.5 & GOA & NA & 25964.29 & 0.5230991 & 0 & 1\\\\\n",
       "\\end{tabular}\n"
      ],
      "text/plain": [
       "      id matchday Club assist clean_sheet goal game_play_duration\n",
       "1  64467       10  KOE     NA           0   NA                 90\n",
       "2  64467       11  KOE     NA           1   NA                 90\n",
       "3  64467       12  KOE     NA           0   NA                 90\n",
       "4  64467       13  KOE     NA           1   NA                 90\n",
       "5  64467       14  KOE     NA           1   NA                 90\n",
       "6  64467       15  KOE     NA           0   NA                 90\n",
       "7  64467       16  KOE     NA           0   NA                 90\n",
       "8  64467       17  KOE     NA           0   NA                 90\n",
       "9  64467       18  KOE     NA           0   NA                 90\n",
       "10 64467       19  KOE     NA           0   NA                 90\n",
       "11 64467       20  KOE     NA           0   NA                 90\n",
       "12 64467       21  KOE     NA           0   NA                 90\n",
       "13 64467       22  KOE     NA           0   NA                 90\n",
       "14 64467        5  KOE     NA           1   NA                 90\n",
       "15 64467        6  KOE     NA           0   NA                 90\n",
       "16 64467        7  KOE     NA           0   NA                 90\n",
       "17 64467        8  KOE     NA           1   NA                 90\n",
       "18 64467        9  KOE     NA           0   NA                 90\n",
       "   total_earnings away_shortname away_squad away_score time_on_pitch  status\n",
       "1           35000           <NA>       1562          0            90 starter\n",
       "2          128500           <NA>       1577          0            90 starter\n",
       "3           82500           <NA>       1562          2            90 starter\n",
       "4          116500           <NA>       1563          0            90 starter\n",
       "5          126000           <NA>       1562          0            90 starter\n",
       "6           57000           <NA>       1568          1            90 starter\n",
       "7          131000           <NA>       1562          1            90 starter\n",
       "8           66000            KOE       1565          1            90 starter\n",
       "9           28500           <NA>       1578          3            90 starter\n",
       "10          49000           <NA>       1562          1            90 starter\n",
       "11          62500           <NA>       1562          1            90 starter\n",
       "12          98500           <NA>       1567          1            90 starter\n",
       "13          38500           <NA>       1562          0            90 starter\n",
       "14         158000            KOE       1566          0            90 starter\n",
       "15          43500           <NA>       1562          0            90 starter\n",
       "16          56500           <NA>       1570          1            90 starter\n",
       "17         195000           <NA>       1562          3            90 starter\n",
       "18           9000           <NA>       1573          1            90 starter\n",
       "   match_id   period finished home_shortname home_squad home_score\n",
       "1      8851 FullTime     True           <NA>       1569          4\n",
       "2      8838 FullTime     True           <NA>       1562          0\n",
       "3      8866 FullTime     True            KOE       1564          1\n",
       "4      8856 FullTime     True           <NA>       1562          0\n",
       "5      8889 FullTime     True            KOE       1575          0\n",
       "6      8874 FullTime     True           <NA>       1562          0\n",
       "7      8907 FullTime     True            KOE       1576          1\n",
       "8      8892 FullTime     True           <NA>       1562          2\n",
       "9      8919 FullTime     True           <NA>       1562          1\n",
       "10     8918 FullTime     True           <NA>       1579          1\n",
       "11     8708 FullTime     True           <NA>       1572          1\n",
       "12     8712 FullTime     True           <NA>       1562          3\n",
       "13     8722 FullTime     True            KOE       1566          1\n",
       "14     8784 FullTime     True           <NA>       1562          1\n",
       "15     8817 FullTime     True            KOE       1574          2\n",
       "16     8802 FullTime     True           <NA>       1562          1\n",
       "17     8833 FullTime     True           <NA>       1571          0\n",
       "18     8820 FullTime     True           <NA>       1562          0\n",
       "   in_for_player sub_in_timestamp sub_in_minutes sub_out_minutes\n",
       "1             NA       1445693400              0              NA\n",
       "2             NA       1446301800              0              NA\n",
       "3             NA       1446906600              0              NA\n",
       "4             NA       1448116200              0              NA\n",
       "5             NA       1448652600              0              NA\n",
       "6             NA       1449325800              0              NA\n",
       "7             NA       1449930600              0              NA\n",
       "8             NA       1450535400              0              NA\n",
       "9             NA       1453559400              0              NA\n",
       "10            NA       1454250600              0              NA\n",
       "11            NA       1454855400              0              NA\n",
       "12            NA       1455384600              0              NA\n",
       "13            NA       1455978600              0              NA\n",
       "14            NA       1442669400              0              NA\n",
       "15            NA       1442944800              0              NA\n",
       "16            NA       1443205800              0              NA\n",
       "17            NA       1443965400              0              NA\n",
       "18            NA       1445175000              0              NA\n",
       "   sub_out_timestamp shot_on_target attempt_saved successful_pass    Name\n",
       "1                 NA             NA             9              25 T. Horn\n",
       "2                 NA             NA             4              35 T. Horn\n",
       "3                 NA             NA             3              23 T. Horn\n",
       "4                 NA             NA             1              26 T. Horn\n",
       "5                 NA             NA             1              23 T. Horn\n",
       "6                 NA             NA             7              31 T. Horn\n",
       "7                 NA             NA             5              23 T. Horn\n",
       "8                 NA             NA             2              15 T. Horn\n",
       "9                 NA             NA             5              29 T. Horn\n",
       "10                NA             NA             4              16 T. Horn\n",
       "11                NA             NA             3              18 T. Horn\n",
       "12                NA             NA             3              29 T. Horn\n",
       "13                NA             NA             4              25 T. Horn\n",
       "14                NA             NA             2              20 T. Horn\n",
       "15                NA             NA             6              25 T. Horn\n",
       "16                NA             NA             4              26 T. Horn\n",
       "17                NA             NA             7              14 T. Horn\n",
       "18                NA             NA             3              15 T. Horn\n",
       "   init_Value Pos home  earnings       Prob           0 probStarter\n",
       "1         8.5 GOA   NA -12428.57 0.04887098 0.000000000    1.000000\n",
       "2         8.5 GOA   NA  86923.08 0.43886744 0.003996004    0.996004\n",
       "3         8.5 GOA    1  94153.85 0.15631859 0.000000000    1.000000\n",
       "4         8.5 GOA   NA  80500.00 0.44515299 0.000000000    1.000000\n",
       "5         8.5 GOA    1  78142.86 0.38896252 0.000000000    1.000000\n",
       "6         8.5 GOA   NA  23964.29 0.41984733 0.000000000    1.000000\n",
       "7         8.5 GOA    1  67076.92 0.35252508 0.000000000    1.000000\n",
       "8         8.5 GOA   NA  87115.38 0.15910190 0.000000000    1.000000\n",
       "9         8.5 GOA   NA  32769.23 0.45845212 0.000000000    1.000000\n",
       "10        8.5 GOA   NA  61500.00 0.17258363 0.000000000    1.000000\n",
       "11        8.5 GOA   NA  84166.67 0.36243396 0.000999001    0.999001\n",
       "12        8.5 GOA   NA 119083.33 0.55837282 0.003996004    0.996004\n",
       "13        8.5 GOA    1  22083.33 0.29326420 0.000999001    0.999001\n",
       "14        8.5 GOA   NA 117857.14 0.38851264 0.002997003    0.997003\n",
       "15        8.5 GOA    1  25035.71 0.32316539 0.000000000    1.000000\n",
       "16        8.5 GOA   NA  74625.00 0.45586470 0.000000000    1.000000\n",
       "17        8.5 GOA   NA 141571.43 0.20347582 0.000000000    1.000000\n",
       "18        8.5 GOA   NA  25964.29 0.52309907 0.000000000    1.000000"
      ]
     },
     "execution_count": 18,
     "metadata": {},
     "output_type": "execute_result"
    }
   ],
   "source": [
    "colnames(plm.merge)[ncol(plm.merge)] <- c(\"probStarter\")\n",
    "subset(plm.merge, plm.merge$id == 64467)"
   ]
  },
  {
   "cell_type": "code",
   "execution_count": 19,
   "metadata": {
    "collapsed": false
   },
   "outputs": [
    {
     "data": {
      "text/plain": [
       "\n",
       "Call:\n",
       "lm(formula = total_earnings ~ Prob + init_Value + Pos + probStarter, \n",
       "    data = plm.merge)\n",
       "\n",
       "Residuals:\n",
       "    Min      1Q  Median      3Q     Max \n",
       "-192662  -31459  -10327   18193  505359 \n",
       "\n",
       "Coefficients:\n",
       "            Estimate Std. Error t value Pr(>|t|)    \n",
       "(Intercept) -22343.7     3091.4  -7.228 5.47e-13 ***\n",
       "Prob         80294.0     4149.2  19.352  < 2e-16 ***\n",
       "init_Value    2177.6      409.8   5.313 1.11e-07 ***\n",
       "PosDEF      -20081.2     2041.4  -9.837  < 2e-16 ***\n",
       "PosGOA      -24083.2     3214.1  -7.493 7.62e-14 ***\n",
       "PosMID       -5616.8     1945.2  -2.888   0.0039 ** \n",
       "probStarter  85669.4     2011.2  42.595  < 2e-16 ***\n",
       "---\n",
       "Signif. codes:  0 '***' 0.001 '**' 0.01 '*' 0.05 '.' 0.1 ' ' 1\n",
       "\n",
       "Residual standard error: 56050 on 6581 degrees of freedom\n",
       "  (4149 observations deleted due to missingness)\n",
       "Multiple R-squared:  0.2965,\tAdjusted R-squared:  0.2958 \n",
       "F-statistic: 462.2 on 6 and 6581 DF,  p-value: < 2.2e-16\n"
      ]
     },
     "execution_count": 19,
     "metadata": {},
     "output_type": "execute_result"
    }
   ],
   "source": [
    "fit <- lm(total_earnings ~ Prob + init_Value + Pos + probStarter, data = plm.merge)\n",
    "summary(fit)\n",
    "\n",
    "## Double-check merges are correct\n",
    "## R-Squared of 0.29; add running average of earnings (needs to be previous weeks' to serve as predictor)."
   ]
  },
  {
   "cell_type": "code",
   "execution_count": 20,
   "metadata": {
    "collapsed": false
   },
   "outputs": [],
   "source": [
    "### WHY THE FUCK ARE THERE NO MATCHES FOR BREMEN FOR DAYS 4 & 9???\n",
    "\n",
    "#sqldf(\"SELECT Club, matchday FROM plm GROUP BY matchday, Club ORDER BY Club, matchday\")\n",
    "#sqldf(\"SELECT Club, matchday FROM clubmatches GROUP BY matchday, Club ORDER BY Club, matchday\")\n",
    "\n",
    "BRE49probs <- sqldf(\"SELECT Club, matchday FROM probs WHERE Club = 'BRE' AND matchday IN (4, 9)\n",
    "                    GROUP BY matchday, Club ORDER BY Club, matchday\")\n",
    "BRE49cm <- sqldf(\"SELECT Club, matchday FROM clubmatches WHERE Club = 'BRE' AND matchday IN (4, 9)\n",
    "                    GROUP BY matchday, Club ORDER BY Club, matchday\")"
   ]
  }
 ],
 "metadata": {
  "kernelspec": {
   "display_name": "R",
   "language": "R",
   "name": "ir"
  },
  "language_info": {
   "codemirror_mode": "r",
   "file_extension": ".r",
   "mimetype": "text/x-r-source",
   "name": "R",
   "pygments_lexer": "r",
   "version": "3.2.2"
  }
 },
 "nbformat": 4,
 "nbformat_minor": 0
}
