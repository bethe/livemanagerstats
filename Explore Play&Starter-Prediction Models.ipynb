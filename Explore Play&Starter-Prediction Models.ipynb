{
 "cells": [
  {
   "cell_type": "code",
   "execution_count": 1,
   "metadata": {
    "collapsed": false
   },
   "outputs": [
    {
     "name": "stderr",
     "output_type": "stream",
     "text": [
      "\n",
      "Attaching package: 'dplyr'\n",
      "\n",
      "The following objects are masked from 'package:stats':\n",
      "\n",
      "    filter, lag\n",
      "\n",
      "The following objects are masked from 'package:base':\n",
      "\n",
      "    intersect, setdiff, setequal, union\n",
      "\n"
     ]
    }
   ],
   "source": [
    "setwd(\"~/Projects/livemanager/\")\n",
    "library(\"rpart\")\n",
    "load(\"plm.RData\")\n",
    "library(\"dplyr\")"
   ]
  },
  {
   "cell_type": "markdown",
   "metadata": {},
   "source": [
    "### Define Functions"
   ]
  },
  {
   "cell_type": "code",
   "execution_count": 2,
   "metadata": {
    "collapsed": false
   },
   "outputs": [],
   "source": [
    "starterfeatures <- function(data = plm, spieltag)  {\n",
    "    \n",
    "    data.subset <- subset(data, data$matchday < spieltag)\n",
    "    data.features <- data.subset %>%\n",
    "            group_by(id, Name) %>%\n",
    "            summarise(played_rate = sum(time_on_pitch > 0)/max(matchday),\n",
    "                      starter_rate = sum(status == \"starter\")/max(matchday),\n",
    "                      last_week_status = status[matchday = max(matchday)],\n",
    "                      last_week_points = total_earnings[matchday = max(matchday)],\n",
    "                      played_last_3 = sum(time_on_pitch[matchday >= max(matchday) - 2] > 0),\n",
    "                      started_last_3 = sum(status[matchday >= max(matchday) -2] == \"starter\"),\n",
    "                      avg_mins = mean(time_on_pitch),\n",
    "                      avg_earnings = mean(total_earnings),\n",
    "                      init_Value = mean(init_Value)\n",
    "                      ) %>%\n",
    "            ungroup() %>%\n",
    "            arrange(id, Name)\n",
    "\n",
    "    return(data.features)\n",
    "    \n",
    "}"
   ]
  },
  {
   "cell_type": "code",
   "execution_count": 3,
   "metadata": {
    "collapsed": false
   },
   "outputs": [],
   "source": [
    "starterlabels <- function(data = plm, spieltag)  {\n",
    "    \n",
    "    data.subset <- subset(data, data$matchday == spieltag)\n",
    "    data.labels <- data.subset %>%\n",
    "            group_by(id) %>%\n",
    "            summarise(played = sum(time_on_pitch > 0),\n",
    "                      starter = sum(status == \"starter\"),\n",
    "                      status = first(status),\n",
    "                      matchday = first(matchday)\n",
    "                      ) %>%\n",
    "            ungroup() %>%\n",
    "            arrange(id)\n",
    "\n",
    "    return(data.labels)\n",
    "    \n",
    "}"
   ]
  },
  {
   "cell_type": "markdown",
   "metadata": {},
   "source": [
    "### Build dataset, starting at Spieltag 5"
   ]
  },
  {
   "cell_type": "code",
   "execution_count": 4,
   "metadata": {
    "collapsed": false
   },
   "outputs": [
    {
     "name": "stdout",
     "output_type": "stream",
     "text": [
      "Completed matchday  5Completed matchday  6Completed matchday  7Completed matchday  8Completed matchday  9Completed matchday  10Completed matchday  11Completed matchday  12Completed matchday  13Completed matchday  14Completed matchday  15Completed matchday  16Completed matchday  17Completed matchday  18Completed matchday  19Completed matchday  20Completed matchday  21Completed matchday  22Completed matchday  23Completed matchday  24"
     ]
    }
   ],
   "source": [
    "max_matchday = max(plm$matchday)\n",
    "\n",
    "plm.played.all <- as.data.frame(NULL)\n",
    "\n",
    "for (i in 5:max_matchday) {\n",
    "    features <- starterfeatures(data = plm, spieltag = i)\n",
    "    labels <- starterlabels(data = plm, spieltag = i)\n",
    "    merge <- merge(features, labels, by = \"id\")\n",
    "    plm.played.all <- rbind(plm.played.all, merge)\n",
    "    cat(\"Completed matchday\", i, \"; \")\n",
    "}"
   ]
  },
  {
   "cell_type": "code",
   "execution_count": 5,
   "metadata": {
    "collapsed": false
   },
   "outputs": [
    {
     "data": {
      "text/html": [
       "<ol class=list-inline>\n",
       "\t<li>11923</li>\n",
       "\t<li>15</li>\n",
       "</ol>\n"
      ],
      "text/latex": [
       "\\begin{enumerate*}\n",
       "\\item 11923\n",
       "\\item 15\n",
       "\\end{enumerate*}\n"
      ],
      "text/markdown": [
       "1. 11923\n",
       "2. 15\n",
       "\n",
       "\n"
      ],
      "text/plain": [
       "[1] 11923    15"
      ]
     },
     "execution_count": 5,
     "metadata": {},
     "output_type": "execute_result"
    }
   ],
   "source": [
    "dim(plm.played.all)"
   ]
  },
  {
   "cell_type": "markdown",
   "metadata": {},
   "source": [
    "### Split training & test data"
   ]
  },
  {
   "cell_type": "code",
   "execution_count": 6,
   "metadata": {
    "collapsed": false
   },
   "outputs": [],
   "source": [
    "## Use 75% as train\n",
    "smp_size <- floor(0.75 * nrow(plm.played.all))\n",
    "\n",
    "## set the seed to make your partition reproductible\n",
    "set.seed(123)\n",
    "train_indices <- sample(seq_len(nrow(plm.played.all)), size = smp_size)\n",
    "\n",
    "train <- plm.played.all[train_indices, ]\n",
    "test <- plm.played.all[-train_indices, ]"
   ]
  },
  {
   "cell_type": "code",
   "execution_count": 7,
   "metadata": {
    "collapsed": false
   },
   "outputs": [
    {
     "data": {
      "text/html": [
       "<ol class=list-inline>\n",
       "\t<li>'id'</li>\n",
       "\t<li>'Name'</li>\n",
       "\t<li>'played_rate'</li>\n",
       "\t<li>'starter_rate'</li>\n",
       "\t<li>'last_week_status'</li>\n",
       "\t<li>'last_week_points'</li>\n",
       "\t<li>'played_last_3'</li>\n",
       "\t<li>'started_last_3'</li>\n",
       "\t<li>'avg_mins'</li>\n",
       "\t<li>'avg_earnings'</li>\n",
       "\t<li>'init_Value'</li>\n",
       "\t<li>'played'</li>\n",
       "\t<li>'starter'</li>\n",
       "\t<li>'status'</li>\n",
       "\t<li>'matchday'</li>\n",
       "</ol>\n"
      ],
      "text/latex": [
       "\\begin{enumerate*}\n",
       "\\item 'id'\n",
       "\\item 'Name'\n",
       "\\item 'played_rate'\n",
       "\\item 'starter_rate'\n",
       "\\item 'last_week_status'\n",
       "\\item 'last_week_points'\n",
       "\\item 'played_last_3'\n",
       "\\item 'started_last_3'\n",
       "\\item 'avg_mins'\n",
       "\\item 'avg_earnings'\n",
       "\\item 'init_Value'\n",
       "\\item 'played'\n",
       "\\item 'starter'\n",
       "\\item 'status'\n",
       "\\item 'matchday'\n",
       "\\end{enumerate*}\n"
      ],
      "text/markdown": [
       "1. 'id'\n",
       "2. 'Name'\n",
       "3. 'played_rate'\n",
       "4. 'starter_rate'\n",
       "5. 'last_week_status'\n",
       "6. 'last_week_points'\n",
       "7. 'played_last_3'\n",
       "8. 'started_last_3'\n",
       "9. 'avg_mins'\n",
       "10. 'avg_earnings'\n",
       "11. 'init_Value'\n",
       "12. 'played'\n",
       "13. 'starter'\n",
       "14. 'status'\n",
       "15. 'matchday'\n",
       "\n",
       "\n"
      ],
      "text/plain": [
       " [1] \"id\"               \"Name\"             \"played_rate\"      \"starter_rate\"    \n",
       " [5] \"last_week_status\" \"last_week_points\" \"played_last_3\"    \"started_last_3\"  \n",
       " [9] \"avg_mins\"         \"avg_earnings\"     \"init_Value\"       \"played\"          \n",
       "[13] \"starter\"          \"status\"           \"matchday\"        "
      ]
     },
     "execution_count": 7,
     "metadata": {},
     "output_type": "execute_result"
    }
   ],
   "source": [
    "names(train)"
   ]
  },
  {
   "cell_type": "markdown",
   "metadata": {},
   "source": [
    "### Decision Tree - Played"
   ]
  },
  {
   "cell_type": "code",
   "execution_count": 37,
   "metadata": {
    "collapsed": false
   },
   "outputs": [],
   "source": [
    "library(\"rpart\")\n",
    "dtree.played <- rpart(played~played_rate+ starter_rate+ last_week_status + last_week_points+ played_last_3+ started_last_3+ avg_earnings+ init_Value,\n",
    "                        data=train, method = \"class\")"
   ]
  },
  {
   "cell_type": "code",
   "execution_count": 13,
   "metadata": {
    "collapsed": false
   },
   "outputs": [
    {
     "ename": "ERROR",
     "evalue": "Error in summary(dtree.played.prune): object 'dtree.played.prune' not found\n",
     "output_type": "error",
     "traceback": [
      "Error in summary(dtree.played.prune): object 'dtree.played.prune' not found\n"
     ]
    }
   ],
   "source": [
    "#plot(dtree.played)\n",
    "#text(dtree.played)\n",
    "#plotcp(treemodel)\n",
    "#printcp(treemodel)\n",
    "#text(treemodel, cex = 0.75)\n",
    "summary(dtree.played.prune)"
   ]
  },
  {
   "cell_type": "code",
   "execution_count": 38,
   "metadata": {
    "collapsed": false
   },
   "outputs": [
    {
     "data": {
      "text/plain": [
       "           \n",
       "predictions   0   1\n",
       "          0 189  14\n",
       "          1  12  46"
      ]
     },
     "execution_count": 38,
     "metadata": {},
     "output_type": "execute_result"
    }
   ],
   "source": [
    "predictions <- predict(dtree.played, newdata = test, type = \"class\")\n",
    "table(predictions, test$played) "
   ]
  },
  {
   "cell_type": "code",
   "execution_count": 15,
   "metadata": {
    "collapsed": false
   },
   "outputs": [
    {
     "data": {
      "text/plain": [
       "                  \n",
       "predictions.pruned    0    1\n",
       "                 0 1163  140\n",
       "                 1  185  749"
      ]
     },
     "execution_count": 15,
     "metadata": {},
     "output_type": "execute_result"
    }
   ],
   "source": [
    "dtree.played.prune <- prune(dtree.played, cp = 0.011)\n",
    "predictions.pruned <- predict(dtree.played.prune, newdata = test, type = \"class\")\n",
    "table(predictions.pruned, test$played) "
   ]
  },
  {
   "cell_type": "markdown",
   "metadata": {},
   "source": [
    "### Decision Tree: Starter"
   ]
  },
  {
   "cell_type": "code",
   "execution_count": 53,
   "metadata": {
    "collapsed": false
   },
   "outputs": [],
   "source": [
    "library(\"rpart\")\n",
    "dtree.starter <- rpart(starter~last_week_status + played_rate+ starter_rate+ last_week_points+ played_last_3+ started_last_3+ avg_earnings+ init_Value,\n",
    "                        data=train, method = \"class\")"
   ]
  },
  {
   "cell_type": "code",
   "execution_count": 54,
   "metadata": {
    "collapsed": false
   },
   "outputs": [
    {
     "name": "stdout",
     "output_type": "stream",
     "text": [
      "Call:\n",
      "rpart(formula = starter ~ last_week_status + played_rate + starter_rate + \n",
      "    last_week_points + played_last_3 + started_last_3 + avg_earnings + \n",
      "    init_Value, data = train, method = \"class\")\n",
      "  n= 8052 \n",
      "\n",
      "          CP nsplit rel error    xerror       xstd\n",
      "1 0.29562044      0 1.0000000 1.0000000 0.01992947\n",
      "2 0.07351408      1 0.7043796 0.7043796 0.01748224\n",
      "3 0.01720542      2 0.6308655 0.6319082 0.01672934\n",
      "4 0.01068822      3 0.6136601 0.6214807 0.01661498\n",
      "5 0.01000000      6 0.5813347 0.6141814 0.01653396\n",
      "\n",
      "Variable importance\n",
      "  started_last_3     starter_rate    played_last_3     avg_earnings \n",
      "              26               18               16               14 \n",
      "     played_rate last_week_status \n",
      "              14               13 \n",
      "\n",
      "Node number 1: 8052 observations,    complexity param=0.2956204\n",
      "  predicted class=0  expected loss=0.2382017  P(node) =1\n",
      "    class counts:  6134  1918\n",
      "   probabilities: 0.762 0.238 \n",
      "  left son=2 (5239 obs) right son=3 (2813 obs)\n",
      "  Primary splits:\n",
      "      started_last_3 < 0.5       to the left,  improve=1136.7470, (0 missing)\n",
      "      starter_rate   < 0.212406  to the left,  improve= 978.2670, (0 missing)\n",
      "      played_last_3  < 1.5       to the left,  improve= 947.9019, (0 missing)\n",
      "      avg_earnings   < 41025     to the left,  improve= 861.8276, (0 missing)\n",
      "      played_rate    < 0.7029412 to the left,  improve= 809.7747, (0 missing)\n",
      "  Surrogate splits:\n",
      "      starter_rate     < 0.1889881 to the left,  agree=0.897, adj=0.706, (0 split)\n",
      "      played_last_3    < 1.5       to the left,  agree=0.885, adj=0.670, (0 split)\n",
      "      avg_earnings     < 36553.98  to the left,  agree=0.862, adj=0.606, (0 split)\n",
      "      played_rate      < 0.541958  to the left,  agree=0.853, adj=0.580, (0 split)\n",
      "      last_week_status splits as  -LLRRL-R, agree=0.838, adj=0.537, (0 split)\n",
      "\n",
      "Node number 2: 5239 observations\n",
      "  predicted class=0  expected loss=0.04351976  P(node) =0.6506458\n",
      "    class counts:  5011   228\n",
      "   probabilities: 0.956 0.044 \n",
      "\n",
      "Node number 3: 2813 observations,    complexity param=0.07351408\n",
      "  predicted class=1  expected loss=0.3992179  P(node) =0.3493542\n",
      "    class counts:  1123  1690\n",
      "   probabilities: 0.399 0.601 \n",
      "  left son=6 (1721 obs) right son=7 (1092 obs)\n",
      "  Primary splits:\n",
      "      started_last_3   < 2.5       to the left,  improve=178.14900, (0 missing)\n",
      "      starter_rate     < 0.8153409 to the left,  improve=154.14490, (0 missing)\n",
      "      last_week_status splits as  -LLLRL-L, improve= 62.65394, (0 missing)\n",
      "      avg_earnings     < 46619.36  to the left,  improve= 54.34298, (0 missing)\n",
      "      played_rate      < 0.9511905 to the left,  improve= 50.00178, (0 missing)\n",
      "  Surrogate splits:\n",
      "      starter_rate     < 0.8284314 to the left,  agree=0.819, adj=0.534, (0 split)\n",
      "      played_rate      < 0.9761905 to the left,  agree=0.695, adj=0.213, (0 split)\n",
      "      played_last_3    < 2.5       to the left,  agree=0.669, adj=0.147, (0 split)\n",
      "      last_week_status splits as  -LLLRL-L, agree=0.656, adj=0.114, (0 split)\n",
      "      avg_earnings     < 72807.35  to the left,  agree=0.631, adj=0.049, (0 split)\n",
      "\n",
      "Node number 6: 1721 observations,    complexity param=0.01720542\n",
      "  predicted class=0  expected loss=0.4590354  P(node) =0.2137357\n",
      "    class counts:   931   790\n",
      "   probabilities: 0.541 0.459 \n",
      "  left son=12 (598 obs) right son=13 (1123 obs)\n",
      "  Primary splits:\n",
      "      starter_rate     < 0.3245614 to the left,  improve=20.023240, (0 missing)\n",
      "      started_last_3   < 1.5       to the left,  improve=19.344420, (0 missing)\n",
      "      avg_earnings     < 30683.33  to the left,  improve=16.116310, (0 missing)\n",
      "      played_last_3    < 1.5       to the left,  improve=11.050050, (0 missing)\n",
      "      last_week_status splits as  -LRLRL-R, improve= 8.465268, (0 missing)\n",
      "  Surrogate splits:\n",
      "      avg_earnings     < 24972.22  to the left,  agree=0.768, adj=0.333, (0 split)\n",
      "      played_rate      < 0.5477273 to the left,  agree=0.768, adj=0.331, (0 split)\n",
      "      last_week_status splits as  -LLLRL-R, agree=0.725, adj=0.209, (0 split)\n",
      "      init_Value       < 5.75      to the left,  agree=0.679, adj=0.077, (0 split)\n",
      "      last_week_points < 250       to the left,  agree=0.673, adj=0.060, (0 split)\n",
      "\n",
      "Node number 7: 1092 observations\n",
      "  predicted class=1  expected loss=0.1758242  P(node) =0.1356185\n",
      "    class counts:   192   900\n",
      "   probabilities: 0.176 0.824 \n",
      "\n",
      "Node number 12: 598 observations\n",
      "  predicted class=0  expected loss=0.3545151  P(node) =0.07426726\n",
      "    class counts:   386   212\n",
      "   probabilities: 0.645 0.355 \n",
      "\n",
      "Node number 13: 1123 observations,    complexity param=0.01068822\n",
      "  predicted class=1  expected loss=0.4853072  P(node) =0.1394685\n",
      "    class counts:   545   578\n",
      "   probabilities: 0.485 0.515 \n",
      "  left son=26 (1014 obs) right son=27 (109 obs)\n",
      "  Primary splits:\n",
      "      starter_rate     < 0.8153409 to the left,  improve=5.802844, (0 missing)\n",
      "      avg_earnings     < 69113.1   to the left,  improve=5.467760, (0 missing)\n",
      "      last_week_status splits as  -LRLRL-R, improve=4.192446, (0 missing)\n",
      "      started_last_3   < 1.5       to the left,  improve=4.161833, (0 missing)\n",
      "      played_last_3    < 1.5       to the left,  improve=3.447428, (0 missing)\n",
      "\n",
      "Node number 26: 1014 observations,    complexity param=0.01068822\n",
      "  predicted class=0  expected loss=0.4980276  P(node) =0.1259314\n",
      "    class counts:   509   505\n",
      "   probabilities: 0.502 0.498 \n",
      "  left son=52 (217 obs) right son=53 (797 obs)\n",
      "  Primary splits:\n",
      "      avg_earnings     < 43845.24  to the left,  improve=4.724228, (0 missing)\n",
      "      last_week_status splits as  -LRLRL-R, improve=3.160385, (0 missing)\n",
      "      starter_rate     < 0.5313725 to the left,  improve=2.599054, (0 missing)\n",
      "      started_last_3   < 1.5       to the left,  improve=2.494526, (0 missing)\n",
      "      played_last_3    < 1.5       to the left,  improve=2.453543, (0 missing)\n",
      "  Surrogate splits:\n",
      "      played_rate      < 0.5811404 to the left,  agree=0.803, adj=0.078, (0 split)\n",
      "      last_week_points < -81000    to the left,  agree=0.790, adj=0.018, (0 split)\n",
      "\n",
      "Node number 27: 109 observations\n",
      "  predicted class=1  expected loss=0.3302752  P(node) =0.01353701\n",
      "    class counts:    36    73\n",
      "   probabilities: 0.330 0.670 \n",
      "\n",
      "Node number 52: 217 observations\n",
      "  predicted class=0  expected loss=0.40553  P(node) =0.02694983\n",
      "    class counts:   129    88\n",
      "   probabilities: 0.594 0.406 \n",
      "\n",
      "Node number 53: 797 observations,    complexity param=0.01068822\n",
      "  predicted class=1  expected loss=0.476788  P(node) =0.09898162\n",
      "    class counts:   380   417\n",
      "   probabilities: 0.477 0.523 \n",
      "  left son=106 (83 obs) right son=107 (714 obs)\n",
      "  Primary splits:\n",
      "      last_week_status splits as  -LRLRL-R, improve=4.153523, (0 missing)\n",
      "      avg_earnings     < 184088.2  to the left,  improve=3.622107, (0 missing)\n",
      "      last_week_points < 154500    to the left,  improve=1.885084, (0 missing)\n",
      "      starter_rate     < 0.5119048 to the left,  improve=1.847181, (0 missing)\n",
      "      played_last_3    < 2.5       to the right, improve=1.832325, (0 missing)\n",
      "  Surrogate splits:\n",
      "      played_rate < 0.3923077 to the left,  agree=0.898, adj=0.024, (0 split)\n",
      "\n",
      "Node number 106: 83 observations\n",
      "  predicted class=0  expected loss=0.373494  P(node) =0.010308\n",
      "    class counts:    52    31\n",
      "   probabilities: 0.627 0.373 \n",
      "\n",
      "Node number 107: 714 observations\n",
      "  predicted class=1  expected loss=0.4593838  P(node) =0.08867362\n",
      "    class counts:   328   386\n",
      "   probabilities: 0.459 0.541 \n",
      "\n"
     ]
    }
   ],
   "source": [
    "summary(dtree.starter)"
   ]
  },
  {
   "cell_type": "code",
   "execution_count": 20,
   "metadata": {
    "collapsed": false
   },
   "outputs": [
    {
     "name": "stdout",
     "output_type": "stream",
     "text": [
      "Call:\n",
      "rpart(formula = starter ~ last_week_status + played_rate + starter_rate + \n",
      "    last_week_points + played_last_3 + started_last_3 + avg_earnings + \n",
      "    init_Value, data = train, method = \"class\")\n",
      "  n= 6708 \n",
      "\n",
      "         CP nsplit rel error    xerror       xstd\n",
      "1 0.4477245      0 1.0000000 1.0000000 0.02158542\n",
      "2 0.0100000      1 0.5522755 0.5522755 0.01715178\n",
      "\n",
      "Variable importance\n",
      "last_week_status   started_last_3 last_week_points     starter_rate \n",
      "              30               20               14               14 \n",
      "   played_last_3     avg_earnings \n",
      "              12               10 \n",
      "\n",
      "Node number 1: 6708 observations,    complexity param=0.4477245\n",
      "  predicted class=0  expected loss=0.2423971  P(node) =1\n",
      "    class counts:  5082  1626\n",
      "   probabilities: 0.758 0.242 \n",
      "  left son=2 (5076 obs) right son=3 (1632 obs)\n",
      "  Primary splits:\n",
      "      last_week_status splits as  -LLLRL-L, improve=996.4722, (0 missing)\n",
      "      started_last_3   < 0.5       to the left,  improve=976.6058, (0 missing)\n",
      "      starter_rate     < 0.3229167 to the left,  improve=872.7720, (0 missing)\n",
      "      played_last_3    < 1.5       to the left,  improve=820.6863, (0 missing)\n",
      "      last_week_points < 6750      to the left,  improve=763.1154, (0 missing)\n",
      "  Surrogate splits:\n",
      "      started_last_3   < 1.5       to the left,  agree=0.922, adj=0.681, (0 split)\n",
      "      last_week_points < 26750     to the left,  agree=0.873, adj=0.479, (0 split)\n",
      "      starter_rate     < 0.541958  to the left,  agree=0.871, adj=0.471, (0 split)\n",
      "      played_last_3    < 2.5       to the left,  agree=0.856, adj=0.409, (0 split)\n",
      "      avg_earnings     < 51733.33  to the left,  agree=0.838, adj=0.335, (0 split)\n",
      "\n",
      "Node number 2: 5076 observations\n",
      "  predicted class=0  expected loss=0.08786446  P(node) =0.7567084\n",
      "    class counts:  4630   446\n",
      "   probabilities: 0.912 0.088 \n",
      "\n",
      "Node number 3: 1632 observations\n",
      "  predicted class=1  expected loss=0.2769608  P(node) =0.2432916\n",
      "    class counts:   452  1180\n",
      "   probabilities: 0.277 0.723 \n",
      "\n"
     ]
    }
   ],
   "source": [
    "dtree.starter.prune <- prune(dtree.starter, cp = 0.011)\n",
    "summary(dtree.starter.prune)"
   ]
  },
  {
   "cell_type": "code",
   "execution_count": 55,
   "metadata": {
    "collapsed": false
   },
   "outputs": [
    {
     "data": {
      "text/plain": [
       "          \n",
       "prediction    0    1\n",
       "         0 1839  187\n",
       "         1  189  470"
      ]
     },
     "execution_count": 55,
     "metadata": {},
     "output_type": "execute_result"
    }
   ],
   "source": [
    "prediction <- predict(dtree.starter, newdata = test, type = \"class\")\n",
    "predict_prob <- predict(dtree.starter, newdata = test, type = \"prob\")\n",
    "colnames(predict_prob) <- c(\"pnostart\", \"pstart\")\n",
    "table(prediction, test$starter)"
   ]
  },
  {
   "cell_type": "code",
   "execution_count": 22,
   "metadata": {
    "collapsed": false
   },
   "outputs": [
    {
     "ename": "ERROR",
     "evalue": "Error in eval(expr, envir, enclos): object 'model19' not found\n",
     "output_type": "error",
     "traceback": [
      "Error in eval(expr, envir, enclos): object 'model19' not found\n"
     ]
    }
   ],
   "source": [
    "names(model19)"
   ]
  },
  {
   "cell_type": "markdown",
   "metadata": {},
   "source": [
    "### Now with randomForest"
   ]
  },
  {
   "cell_type": "code",
   "execution_count": 8,
   "metadata": {
    "collapsed": false
   },
   "outputs": [
    {
     "name": "stderr",
     "output_type": "stream",
     "text": [
      "randomForest 4.6-12\n",
      "Type rfNews() to see new features/changes/bug fixes.\n",
      "\n",
      "Attaching package: 'randomForest'\n",
      "\n",
      "The following object is masked from 'package:dplyr':\n",
      "\n",
      "    combine\n",
      "\n"
     ]
    }
   ],
   "source": [
    "library(\"randomForest\")\n",
    "\n",
    "# Note: Took out init_Value as random Forest doesn't like missing values. Init_Value wasn't important in DT, so it's ok\n",
    "rforest <- randomForest(as.factor(starter)~played_rate+ starter_rate+ last_week_status + last_week_points+ played_last_3+ started_last_3+ avg_earnings,\n",
    "                        data=train, ntree = 1001)\n",
    "#Force Classifier outcome by making dependent variable factor"
   ]
  },
  {
   "cell_type": "code",
   "execution_count": 51,
   "metadata": {
    "collapsed": false
   },
   "outputs": [
    {
     "data": {
      "text/plain": [
       "          \n",
       "prediction    0    1\n",
       "         0 1831  202\n",
       "         1  197  455"
      ]
     },
     "execution_count": 51,
     "metadata": {},
     "output_type": "execute_result"
    }
   ],
   "source": [
    "prediction <- predict(rforest, newdata = test, type = \"class\")\n",
    "table(prediction, test$starter)"
   ]
  },
  {
   "cell_type": "code",
   "execution_count": 52,
   "metadata": {
    "collapsed": false
   },
   "outputs": [],
   "source": [
    "starter_probs <- predict(rforest, newdata = plm.played.all, type = \"prob\")\n",
    "starter_probs <- cbind(starter_probs, plm.played.all[c(\"id\", \"matchday\")])\n",
    "save(starter_probs, file = \"starter_probs.RData\")"
   ]
  },
  {
   "cell_type": "markdown",
   "metadata": {},
   "source": [
    "### Old Code that I might want to reuse"
   ]
  },
  {
   "cell_type": "code",
   "execution_count": 18,
   "metadata": {
    "collapsed": false
   },
   "outputs": [
    {
     "ename": "ERROR",
     "evalue": "Error in colnames(rfpred.df) <- c(\"pnostart\", \"pstart\"): object 'rfpred.df' not found\n",
     "output_type": "error",
     "traceback": [
      "Error in colnames(rfpred.df) <- c(\"pnostart\", \"pstart\"): object 'rfpred.df' not found\n"
     ]
    },
    {
     "ename": "ERROR",
     "evalue": "Error in eval(expr, envir, enclos): could not find function \"ggplot\"\n",
     "output_type": "error",
     "traceback": [
      "Error in eval(expr, envir, enclos): could not find function \"ggplot\"\n"
     ]
    }
   ],
   "source": [
    "colnames(rfpred.df) <- c(\"pnostart\", \"pstart\")\n",
    "ggplot(rfpred.df, aes(pstart)) + geom_histogram()"
   ]
  },
  {
   "cell_type": "code",
   "execution_count": 19,
   "metadata": {
    "collapsed": false
   },
   "outputs": [
    {
     "ename": "ERROR",
     "evalue": "Error in rfpred.df$vote[rfpred.df$pstart < threshold] = 0: object 'rfpred.df' not found\n",
     "output_type": "error",
     "traceback": [
      "Error in rfpred.df$vote[rfpred.df$pstart < threshold] = 0: object 'rfpred.df' not found\n"
     ]
    },
    {
     "ename": "ERROR",
     "evalue": "Error in rfpred.df$vote[rfpred.df$pstart >= threshold] = 1: object 'rfpred.df' not found\n",
     "output_type": "error",
     "traceback": [
      "Error in rfpred.df$vote[rfpred.df$pstart >= threshold] = 1: object 'rfpred.df' not found\n"
     ]
    },
    {
     "ename": "ERROR",
     "evalue": "Error in table(rfpred.df$vote, model19$started): object 'rfpred.df' not found\n",
     "output_type": "error",
     "traceback": [
      "Error in table(rfpred.df$vote, model19$started): object 'rfpred.df' not found\n"
     ]
    }
   ],
   "source": [
    "# Should be easier to identify non-starters\n",
    "threshold = 0.75\n",
    "rfpred.df$vote[rfpred.df$pstart < threshold] = 0\n",
    "rfpred.df$vote[rfpred.df$pstart >= threshold] = 1\n",
    "\n",
    "#rfpred.df$vote\n",
    "table(rfpred.df$vote, model19$started)"
   ]
  },
  {
   "cell_type": "code",
   "execution_count": 20,
   "metadata": {
    "collapsed": false
   },
   "outputs": [],
   "source": [
    "#treemodel2 = prune(dtreeplayed, cp = 0.011)\n",
    "#plot(treemodel2, uniform = TRUE)\n",
    "#text(treemodel2)\n",
    "#summary(treemodel2)"
   ]
  },
  {
   "cell_type": "code",
   "execution_count": 21,
   "metadata": {
    "collapsed": false
   },
   "outputs": [
    {
     "ename": "ERROR",
     "evalue": "Error in cbind(model19, prediction, predict_prob): object 'model19' not found\n",
     "output_type": "error",
     "traceback": [
      "Error in cbind(model19, prediction, predict_prob): object 'model19' not found\n"
     ]
    },
    {
     "data": {
      "text/html": [
       "<table>\n",
       "<thead><tr><th></th><th scope=col>id</th><th scope=col>Name</th><th scope=col>played_rate</th><th scope=col>starter_rate</th><th scope=col>last_week_status</th><th scope=col>last_week_points</th><th scope=col>played_last_3</th><th scope=col>started_last_3</th><th scope=col>avg_mins</th><th scope=col>avg_earnings</th><th scope=col>init_Value</th><th scope=col>played</th><th scope=col>starter</th><th scope=col>status</th><th scope=col>matchday</th></tr></thead>\n",
       "<tbody>\n",
       "</tbody>\n",
       "</table>\n"
      ],
      "text/latex": [
       "\\begin{tabular}{r|lllllllllllllll}\n",
       "  & id & Name & played_rate & starter_rate & last_week_status & last_week_points & played_last_3 & started_last_3 & avg_mins & avg_earnings & init_Value & played & starter & status & matchday\\\\\n",
       "\\hline\n",
       "\\end{tabular}\n"
      ],
      "text/plain": [
       " [1] id               Name             played_rate      starter_rate    \n",
       " [5] last_week_status last_week_points played_last_3    started_last_3  \n",
       " [9] avg_mins         avg_earnings     init_Value       played          \n",
       "[13] starter          status           matchday        \n",
       "<0 rows> (or 0-length row.names)"
      ]
     },
     "execution_count": 21,
     "metadata": {},
     "output_type": "execute_result"
    }
   ],
   "source": [
    "## Who are these 17?\n",
    "test <- cbind(model19, prediction, predict_prob)\n",
    "#names(test)\n",
    "subset(test, test$prediction == TRUE & test$started == FALSE)"
   ]
  },
  {
   "cell_type": "code",
   "execution_count": 22,
   "metadata": {
    "collapsed": false
   },
   "outputs": [
    {
     "name": "stderr",
     "output_type": "stream",
     "text": [
      "Loading required package: gplots\n",
      "\n",
      "Attaching package: 'gplots'\n",
      "\n",
      "The following object is masked from 'package:stats':\n",
      "\n",
      "    lowess\n",
      "\n"
     ]
    },
    {
     "ename": "ERROR",
     "evalue": "Error in is.data.frame(labels): object 'model19' not found\n",
     "output_type": "error",
     "traceback": [
      "Error in is.data.frame(labels): object 'model19' not found\n"
     ]
    },
    {
     "ename": "ERROR",
     "evalue": "Error in performance(pred, \"prec\", \"rec\"): object 'pred' not found\n",
     "output_type": "error",
     "traceback": [
      "Error in performance(pred, \"prec\", \"rec\"): object 'pred' not found\n"
     ]
    },
    {
     "ename": "ERROR",
     "evalue": "Error in plot(perf): error in evaluating the argument 'x' in selecting a method for function 'plot': Error: object 'perf' not found\n\n",
     "output_type": "error",
     "traceback": [
      "Error in plot(perf): error in evaluating the argument 'x' in selecting a method for function 'plot': Error: object 'perf' not found\n\n"
     ]
    }
   ],
   "source": [
    "library(\"ROCR\")\n",
    "predictions_array = as.integer(as.logical(predictions)) # scores should be numeric\n",
    "\n",
    "pred <- prediction(predictions_array, model19$played) \n",
    "\n",
    "perf <- performance(pred, \"prec\", \"rec\")\n",
    "\n",
    "plot(perf)"
   ]
  }
 ],
 "metadata": {
  "kernelspec": {
   "display_name": "R",
   "language": "R",
   "name": "ir"
  },
  "language_info": {
   "codemirror_mode": "r",
   "file_extension": ".r",
   "mimetype": "text/x-r-source",
   "name": "R",
   "pygments_lexer": "r",
   "version": "3.2.2"
  }
 },
 "nbformat": 4,
 "nbformat_minor": 0
}
