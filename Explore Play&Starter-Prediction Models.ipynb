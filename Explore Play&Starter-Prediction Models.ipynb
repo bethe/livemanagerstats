{
 "cells": [
  {
   "cell_type": "code",
   "execution_count": 1,
   "metadata": {
    "collapsed": false
   },
   "outputs": [
    {
     "name": "stderr",
     "output_type": "stream",
     "text": [
      "\n",
      "Attaching package: 'dplyr'\n",
      "\n",
      "The following objects are masked from 'package:stats':\n",
      "\n",
      "    filter, lag\n",
      "\n",
      "The following objects are masked from 'package:base':\n",
      "\n",
      "    intersect, setdiff, setequal, union\n",
      "\n"
     ]
    }
   ],
   "source": [
    "setwd(\"~/Projects/livemanager/\")\n",
    "library(\"rpart\")\n",
    "load(\"plm.RData\")\n",
    "library(\"dplyr\")"
   ]
  },
  {
   "cell_type": "markdown",
   "metadata": {},
   "source": [
    "### Define Functions"
   ]
  },
  {
   "cell_type": "code",
   "execution_count": 2,
   "metadata": {
    "collapsed": false
   },
   "outputs": [],
   "source": [
    "starterfeatures <- function(data = plm, spieltag)  {\n",
    "    \n",
    "    data.subset <- subset(data, data$matchday < spieltag)\n",
    "    data.features <- data.subset %>%\n",
    "            group_by(id, Name) %>%\n",
    "            summarise(played_rate = sum(time_on_pitch > 0)/max(matchday),\n",
    "                      starter_rate = sum(status == \"starter\")/max(matchday),\n",
    "                      last_week_status = status[matchday = max(matchday)],\n",
    "                      last_week_points = total_earnings[matchday = max(matchday)],\n",
    "                      played_last_3 = sum(time_on_pitch[matchday >= max(matchday) - 2] > 0),\n",
    "                      started_last_3 = sum(status[matchday >= max(matchday) -2] == \"starter\"),\n",
    "                      avg_mins = mean(time_on_pitch),\n",
    "                      avg_earnings = mean(total_earnings),\n",
    "                      init_Value = mean(init_Value)\n",
    "                      ) %>%\n",
    "            ungroup() %>%\n",
    "            arrange(id, Name)\n",
    "\n",
    "    return(data.features)\n",
    "    \n",
    "}"
   ]
  },
  {
   "cell_type": "code",
   "execution_count": 3,
   "metadata": {
    "collapsed": false
   },
   "outputs": [],
   "source": [
    "starterlabels <- function(data = plm, spieltag)  {\n",
    "    \n",
    "    data.subset <- subset(data, data$matchday == spieltag)\n",
    "    data.labels <- data.subset %>%\n",
    "            group_by(id) %>%\n",
    "            summarise(played = sum(time_on_pitch > 0),\n",
    "                      starter = sum(status == \"starter\"),\n",
    "                      status = first(status),\n",
    "                      matchday = first(matchday)\n",
    "                      ) %>%\n",
    "            ungroup() %>%\n",
    "            arrange(id)\n",
    "\n",
    "    return(data.labels)\n",
    "    \n",
    "}"
   ]
  },
  {
   "cell_type": "markdown",
   "metadata": {},
   "source": [
    "### Build dataset, starting at Spieltag 5"
   ]
  },
  {
   "cell_type": "code",
   "execution_count": 4,
   "metadata": {
    "collapsed": false
   },
   "outputs": [
    {
     "name": "stdout",
     "output_type": "stream",
     "text": [
      "Completed matchday 5 ; Completed matchday 6 ; Completed matchday 7 ; Completed matchday 8 ; Completed matchday 9 ; Completed matchday 10 ; Completed matchday 11 ; Completed matchday 12 ; Completed matchday 13 ; Completed matchday 14 ; Completed matchday 15 ; Completed matchday 16 ; Completed matchday 17 ; Completed matchday 18 ; Completed matchday 19 ; Completed matchday 20 ; Completed matchday 21 ; Completed matchday 22 ; Completed matchday 23 ; Completed matchday 24 ; Completed matchday 25 ; Completed matchday 26 ; "
     ]
    }
   ],
   "source": [
    "max_matchday = max(plm$matchday)\n",
    "\n",
    "plm.played.all <- as.data.frame(NULL)\n",
    "\n",
    "for (i in 5:max_matchday) {\n",
    "    features <- starterfeatures(data = plm, spieltag = i)\n",
    "    labels <- starterlabels(data = plm, spieltag = i)\n",
    "    merge <- merge(features, labels, by = \"id\")\n",
    "    plm.played.all <- rbind(plm.played.all, merge)\n",
    "    cat(\"Completed matchday\", i, \"; \")\n",
    "}"
   ]
  },
  {
   "cell_type": "code",
   "execution_count": 5,
   "metadata": {
    "collapsed": false
   },
   "outputs": [
    {
     "data": {
      "text/html": [
       "<ol class=list-inline>\n",
       "\t<li>13155</li>\n",
       "\t<li>15</li>\n",
       "</ol>\n"
      ],
      "text/latex": [
       "\\begin{enumerate*}\n",
       "\\item 13155\n",
       "\\item 15\n",
       "\\end{enumerate*}\n"
      ],
      "text/markdown": [
       "1. 13155\n",
       "2. 15\n",
       "\n",
       "\n"
      ],
      "text/plain": [
       "[1] 13155    15"
      ]
     },
     "execution_count": 5,
     "metadata": {},
     "output_type": "execute_result"
    }
   ],
   "source": [
    "dim(plm.played.all)"
   ]
  },
  {
   "cell_type": "markdown",
   "metadata": {},
   "source": [
    "### Split training & test data"
   ]
  },
  {
   "cell_type": "code",
   "execution_count": 6,
   "metadata": {
    "collapsed": false
   },
   "outputs": [],
   "source": [
    "## Use 75% as train\n",
    "smp_size <- floor(0.75 * nrow(plm.played.all))\n",
    "\n",
    "## set the seed to make your partition reproductible\n",
    "set.seed(123)\n",
    "train_indices <- sample(seq_len(nrow(plm.played.all)), size = smp_size)\n",
    "\n",
    "train <- plm.played.all[train_indices, ]\n",
    "test <- plm.played.all[-train_indices, ]"
   ]
  },
  {
   "cell_type": "code",
   "execution_count": 7,
   "metadata": {
    "collapsed": false
   },
   "outputs": [
    {
     "data": {
      "text/html": [
       "<ol class=list-inline>\n",
       "\t<li>'id'</li>\n",
       "\t<li>'Name'</li>\n",
       "\t<li>'played_rate'</li>\n",
       "\t<li>'starter_rate'</li>\n",
       "\t<li>'last_week_status'</li>\n",
       "\t<li>'last_week_points'</li>\n",
       "\t<li>'played_last_3'</li>\n",
       "\t<li>'started_last_3'</li>\n",
       "\t<li>'avg_mins'</li>\n",
       "\t<li>'avg_earnings'</li>\n",
       "\t<li>'init_Value'</li>\n",
       "\t<li>'played'</li>\n",
       "\t<li>'starter'</li>\n",
       "\t<li>'status'</li>\n",
       "\t<li>'matchday'</li>\n",
       "</ol>\n"
      ],
      "text/latex": [
       "\\begin{enumerate*}\n",
       "\\item 'id'\n",
       "\\item 'Name'\n",
       "\\item 'played_rate'\n",
       "\\item 'starter_rate'\n",
       "\\item 'last_week_status'\n",
       "\\item 'last_week_points'\n",
       "\\item 'played_last_3'\n",
       "\\item 'started_last_3'\n",
       "\\item 'avg_mins'\n",
       "\\item 'avg_earnings'\n",
       "\\item 'init_Value'\n",
       "\\item 'played'\n",
       "\\item 'starter'\n",
       "\\item 'status'\n",
       "\\item 'matchday'\n",
       "\\end{enumerate*}\n"
      ],
      "text/markdown": [
       "1. 'id'\n",
       "2. 'Name'\n",
       "3. 'played_rate'\n",
       "4. 'starter_rate'\n",
       "5. 'last_week_status'\n",
       "6. 'last_week_points'\n",
       "7. 'played_last_3'\n",
       "8. 'started_last_3'\n",
       "9. 'avg_mins'\n",
       "10. 'avg_earnings'\n",
       "11. 'init_Value'\n",
       "12. 'played'\n",
       "13. 'starter'\n",
       "14. 'status'\n",
       "15. 'matchday'\n",
       "\n",
       "\n"
      ],
      "text/plain": [
       " [1] \"id\"               \"Name\"             \"played_rate\"      \"starter_rate\"    \n",
       " [5] \"last_week_status\" \"last_week_points\" \"played_last_3\"    \"started_last_3\"  \n",
       " [9] \"avg_mins\"         \"avg_earnings\"     \"init_Value\"       \"played\"          \n",
       "[13] \"starter\"          \"status\"           \"matchday\"        "
      ]
     },
     "execution_count": 7,
     "metadata": {},
     "output_type": "execute_result"
    }
   ],
   "source": [
    "names(train)"
   ]
  },
  {
   "cell_type": "markdown",
   "metadata": {},
   "source": [
    "### Decision Tree - Played"
   ]
  },
  {
   "cell_type": "code",
   "execution_count": 8,
   "metadata": {
    "collapsed": false
   },
   "outputs": [],
   "source": [
    "library(\"rpart\")\n",
    "dtree.played <- rpart(played~played_rate+ starter_rate+ last_week_status + last_week_points+ played_last_3+ started_last_3+ avg_earnings+ init_Value,\n",
    "                        data=train, method = \"class\")"
   ]
  },
  {
   "cell_type": "code",
   "execution_count": 9,
   "metadata": {
    "collapsed": false
   },
   "outputs": [
    {
     "ename": "ERROR",
     "evalue": "Error in summary(dtree.played.prune): object 'dtree.played.prune' not found\n",
     "output_type": "error",
     "traceback": [
      "Error in summary(dtree.played.prune): object 'dtree.played.prune' not found\n"
     ]
    }
   ],
   "source": [
    "#plot(dtree.played)\n",
    "#text(dtree.played)\n",
    "#plotcp(treemodel)\n",
    "#printcp(treemodel)\n",
    "#text(treemodel, cex = 0.75)\n",
    "summary(dtree.played.prune)"
   ]
  },
  {
   "cell_type": "code",
   "execution_count": 10,
   "metadata": {
    "collapsed": false
   },
   "outputs": [
    {
     "data": {
      "text/plain": [
       "           \n",
       "predictions    0    1\n",
       "          0 1750  213\n",
       "          1  251 1075"
      ]
     },
     "execution_count": 10,
     "metadata": {},
     "output_type": "execute_result"
    }
   ],
   "source": [
    "predictions <- predict(dtree.played, newdata = test, type = \"class\")\n",
    "table(predictions, test$played) "
   ]
  },
  {
   "cell_type": "code",
   "execution_count": 11,
   "metadata": {
    "collapsed": false
   },
   "outputs": [
    {
     "data": {
      "text/plain": [
       "                  \n",
       "predictions.pruned    0    1\n",
       "                 0 1750  213\n",
       "                 1  251 1075"
      ]
     },
     "execution_count": 11,
     "metadata": {},
     "output_type": "execute_result"
    }
   ],
   "source": [
    "dtree.played.prune <- prune(dtree.played, cp = 0.011)\n",
    "predictions.pruned <- predict(dtree.played.prune, newdata = test, type = \"class\")\n",
    "table(predictions.pruned, test$played) "
   ]
  },
  {
   "cell_type": "markdown",
   "metadata": {},
   "source": [
    "### Decision Tree: Starter"
   ]
  },
  {
   "cell_type": "code",
   "execution_count": 12,
   "metadata": {
    "collapsed": false
   },
   "outputs": [],
   "source": [
    "library(\"rpart\")\n",
    "dtree.starter <- rpart(starter~last_week_status + played_rate+ starter_rate+ last_week_points+ played_last_3+ started_last_3+ avg_earnings+ init_Value,\n",
    "                        data=train, method = \"class\")"
   ]
  },
  {
   "cell_type": "code",
   "execution_count": 13,
   "metadata": {
    "collapsed": false
   },
   "outputs": [
    {
     "name": "stdout",
     "output_type": "stream",
     "text": [
      "Call:\n",
      "rpart(formula = starter ~ last_week_status + played_rate + starter_rate + \n",
      "    last_week_points + played_last_3 + started_last_3 + avg_earnings + \n",
      "    init_Value, data = train, method = \"class\")\n",
      "  n= 9866 \n",
      "\n",
      "          CP nsplit rel error    xerror       xstd\n",
      "1 0.30681337      0 1.0000000 1.0000000 0.01793970\n",
      "2 0.06517139      1 0.6931866 0.6931866 0.01564119\n",
      "3 0.04739738      2 0.6280152 0.6555226 0.01529237\n",
      "4 0.01000000      3 0.5806179 0.5806179 0.01454450\n",
      "\n",
      "Variable importance\n",
      "  started_last_3     starter_rate    played_last_3      played_rate \n",
      "              27               17               16               14 \n",
      "    avg_earnings last_week_status \n",
      "              14               13 \n",
      "\n",
      "Node number 1: 9866 observations,    complexity param=0.3068134\n",
      "  predicted class=0  expected loss=0.2395094  P(node) =1\n",
      "    class counts:  7503  2363\n",
      "   probabilities: 0.760 0.240 \n",
      "  left son=2 (6421 obs) right son=3 (3445 obs)\n",
      "  Primary splits:\n",
      "      started_last_3 < 0.5       to the left,  improve=1415.939, (0 missing)\n",
      "      played_last_3  < 1.5       to the left,  improve=1195.372, (0 missing)\n",
      "      starter_rate   < 0.2198068 to the left,  improve=1165.809, (0 missing)\n",
      "      avg_earnings   < 29490     to the left,  improve=1029.755, (0 missing)\n",
      "      played_rate    < 0.5477273 to the left,  improve= 984.321, (0 missing)\n",
      "  Surrogate splits:\n",
      "      played_last_3    < 1.5       to the left,  agree=0.890, adj=0.685, (0 split)\n",
      "      starter_rate     < 0.1952381 to the left,  agree=0.884, adj=0.669, (0 split)\n",
      "      avg_earnings     < 33251.75  to the left,  agree=0.860, adj=0.599, (0 split)\n",
      "      played_rate      < 0.568323  to the left,  agree=0.851, adj=0.572, (0 split)\n",
      "      last_week_status splits as  -LLLRL-R, agree=0.841, adj=0.544, (0 split)\n",
      "\n",
      "Node number 2: 6421 observations\n",
      "  predicted class=0  expected loss=0.04329544  P(node) =0.650821\n",
      "    class counts:  6143   278\n",
      "   probabilities: 0.957 0.043 \n",
      "\n",
      "Node number 3: 3445 observations,    complexity param=0.06517139\n",
      "  predicted class=1  expected loss=0.394775  P(node) =0.349179\n",
      "    class counts:  1360  2085\n",
      "   probabilities: 0.395 0.605 \n",
      "  left son=6 (2084 obs) right son=7 (1361 obs)\n",
      "  Primary splits:\n",
      "      started_last_3   < 2.5       to the left,  improve=213.25240, (0 missing)\n",
      "      starter_rate     < 0.755     to the left,  improve=182.33440, (0 missing)\n",
      "      last_week_status splits as  -LLRRL-L, improve= 83.60962, (0 missing)\n",
      "      avg_earnings     < 46450     to the left,  improve= 55.53576, (0 missing)\n",
      "      played_rate      < 0.7958333 to the left,  improve= 54.79619, (0 missing)\n",
      "  Surrogate splits:\n",
      "      starter_rate     < 0.8153409 to the left,  agree=0.793, adj=0.476, (0 split)\n",
      "      played_rate      < 0.9591667 to the left,  agree=0.693, adj=0.223, (0 split)\n",
      "      played_last_3    < 2.5       to the left,  agree=0.691, adj=0.217, (0 split)\n",
      "      last_week_status splits as  -LLLRL-L, agree=0.658, adj=0.134, (0 split)\n",
      "      avg_earnings     < 64630.25  to the left,  agree=0.622, adj=0.043, (0 split)\n",
      "\n",
      "Node number 6: 2084 observations,    complexity param=0.04739738\n",
      "  predicted class=0  expected loss=0.4630518  P(node) =0.2112305\n",
      "    class counts:  1119   965\n",
      "   probabilities: 0.537 0.463 \n",
      "  left son=12 (1138 obs) right son=13 (946 obs)\n",
      "  Primary splits:\n",
      "      started_last_3 < 1.5       to the left,  improve=32.02788, (0 missing)\n",
      "      starter_rate   < 0.51      to the left,  improve=26.57969, (0 missing)\n",
      "      avg_earnings   < 46607.92  to the left,  improve=13.99867, (0 missing)\n",
      "      played_last_3  < 1.5       to the left,  improve=11.90910, (0 missing)\n",
      "      played_rate    < 0.7958333 to the left,  improve=10.82636, (0 missing)\n",
      "  Surrogate splits:\n",
      "      starter_rate     < 0.5435606 to the left,  agree=0.674, adj=0.282, (0 split)\n",
      "      played_rate      < 0.8366667 to the left,  agree=0.609, adj=0.140, (0 split)\n",
      "      avg_earnings     < 52636.03  to the left,  agree=0.607, adj=0.135, (0 split)\n",
      "      played_last_3    < 2.5       to the left,  agree=0.607, adj=0.133, (0 split)\n",
      "      last_week_status splits as  -LLLRL-L, agree=0.603, adj=0.126, (0 split)\n",
      "\n",
      "Node number 7: 1361 observations\n",
      "  predicted class=1  expected loss=0.1770757  P(node) =0.1379485\n",
      "    class counts:   241  1120\n",
      "   probabilities: 0.177 0.823 \n",
      "\n",
      "Node number 12: 1138 observations\n",
      "  predicted class=0  expected loss=0.3831283  P(node) =0.1153456\n",
      "    class counts:   702   436\n",
      "   probabilities: 0.617 0.383 \n",
      "\n",
      "Node number 13: 946 observations\n",
      "  predicted class=1  expected loss=0.4408034  P(node) =0.09588486\n",
      "    class counts:   417   529\n",
      "   probabilities: 0.441 0.559 \n",
      "\n"
     ]
    }
   ],
   "source": [
    "summary(dtree.starter)"
   ]
  },
  {
   "cell_type": "code",
   "execution_count": 14,
   "metadata": {
    "collapsed": false
   },
   "outputs": [
    {
     "name": "stdout",
     "output_type": "stream",
     "text": [
      "Call:\n",
      "rpart(formula = starter ~ last_week_status + played_rate + starter_rate + \n",
      "    last_week_points + played_last_3 + started_last_3 + avg_earnings + \n",
      "    init_Value, data = train, method = \"class\")\n",
      "  n= 9866 \n",
      "\n",
      "          CP nsplit rel error    xerror       xstd\n",
      "1 0.30681337      0 1.0000000 1.0000000 0.01793970\n",
      "2 0.06517139      1 0.6931866 0.6931866 0.01564119\n",
      "3 0.04739738      2 0.6280152 0.6555226 0.01529237\n",
      "4 0.01000000      3 0.5806179 0.5806179 0.01454450\n",
      "\n",
      "Variable importance\n",
      "  started_last_3     starter_rate    played_last_3      played_rate \n",
      "              27               17               16               14 \n",
      "    avg_earnings last_week_status \n",
      "              14               13 \n",
      "\n",
      "Node number 1: 9866 observations,    complexity param=0.3068134\n",
      "  predicted class=0  expected loss=0.2395094  P(node) =1\n",
      "    class counts:  7503  2363\n",
      "   probabilities: 0.760 0.240 \n",
      "  left son=2 (6421 obs) right son=3 (3445 obs)\n",
      "  Primary splits:\n",
      "      started_last_3 < 0.5       to the left,  improve=1415.939, (0 missing)\n",
      "      played_last_3  < 1.5       to the left,  improve=1195.372, (0 missing)\n",
      "      starter_rate   < 0.2198068 to the left,  improve=1165.809, (0 missing)\n",
      "      avg_earnings   < 29490     to the left,  improve=1029.755, (0 missing)\n",
      "      played_rate    < 0.5477273 to the left,  improve= 984.321, (0 missing)\n",
      "  Surrogate splits:\n",
      "      played_last_3    < 1.5       to the left,  agree=0.890, adj=0.685, (0 split)\n",
      "      starter_rate     < 0.1952381 to the left,  agree=0.884, adj=0.669, (0 split)\n",
      "      avg_earnings     < 33251.75  to the left,  agree=0.860, adj=0.599, (0 split)\n",
      "      played_rate      < 0.568323  to the left,  agree=0.851, adj=0.572, (0 split)\n",
      "      last_week_status splits as  -LLLRL-R, agree=0.841, adj=0.544, (0 split)\n",
      "\n",
      "Node number 2: 6421 observations\n",
      "  predicted class=0  expected loss=0.04329544  P(node) =0.650821\n",
      "    class counts:  6143   278\n",
      "   probabilities: 0.957 0.043 \n",
      "\n",
      "Node number 3: 3445 observations,    complexity param=0.06517139\n",
      "  predicted class=1  expected loss=0.394775  P(node) =0.349179\n",
      "    class counts:  1360  2085\n",
      "   probabilities: 0.395 0.605 \n",
      "  left son=6 (2084 obs) right son=7 (1361 obs)\n",
      "  Primary splits:\n",
      "      started_last_3   < 2.5       to the left,  improve=213.25240, (0 missing)\n",
      "      starter_rate     < 0.755     to the left,  improve=182.33440, (0 missing)\n",
      "      last_week_status splits as  -LLRRL-L, improve= 83.60962, (0 missing)\n",
      "      avg_earnings     < 46450     to the left,  improve= 55.53576, (0 missing)\n",
      "      played_rate      < 0.7958333 to the left,  improve= 54.79619, (0 missing)\n",
      "  Surrogate splits:\n",
      "      starter_rate     < 0.8153409 to the left,  agree=0.793, adj=0.476, (0 split)\n",
      "      played_rate      < 0.9591667 to the left,  agree=0.693, adj=0.223, (0 split)\n",
      "      played_last_3    < 2.5       to the left,  agree=0.691, adj=0.217, (0 split)\n",
      "      last_week_status splits as  -LLLRL-L, agree=0.658, adj=0.134, (0 split)\n",
      "      avg_earnings     < 64630.25  to the left,  agree=0.622, adj=0.043, (0 split)\n",
      "\n",
      "Node number 6: 2084 observations,    complexity param=0.04739738\n",
      "  predicted class=0  expected loss=0.4630518  P(node) =0.2112305\n",
      "    class counts:  1119   965\n",
      "   probabilities: 0.537 0.463 \n",
      "  left son=12 (1138 obs) right son=13 (946 obs)\n",
      "  Primary splits:\n",
      "      started_last_3 < 1.5       to the left,  improve=32.02788, (0 missing)\n",
      "      starter_rate   < 0.51      to the left,  improve=26.57969, (0 missing)\n",
      "      avg_earnings   < 46607.92  to the left,  improve=13.99867, (0 missing)\n",
      "      played_last_3  < 1.5       to the left,  improve=11.90910, (0 missing)\n",
      "      played_rate    < 0.7958333 to the left,  improve=10.82636, (0 missing)\n",
      "  Surrogate splits:\n",
      "      starter_rate     < 0.5435606 to the left,  agree=0.674, adj=0.282, (0 split)\n",
      "      played_rate      < 0.8366667 to the left,  agree=0.609, adj=0.140, (0 split)\n",
      "      avg_earnings     < 52636.03  to the left,  agree=0.607, adj=0.135, (0 split)\n",
      "      played_last_3    < 2.5       to the left,  agree=0.607, adj=0.133, (0 split)\n",
      "      last_week_status splits as  -LLLRL-L, agree=0.603, adj=0.126, (0 split)\n",
      "\n",
      "Node number 7: 1361 observations\n",
      "  predicted class=1  expected loss=0.1770757  P(node) =0.1379485\n",
      "    class counts:   241  1120\n",
      "   probabilities: 0.177 0.823 \n",
      "\n",
      "Node number 12: 1138 observations\n",
      "  predicted class=0  expected loss=0.3831283  P(node) =0.1153456\n",
      "    class counts:   702   436\n",
      "   probabilities: 0.617 0.383 \n",
      "\n",
      "Node number 13: 946 observations\n",
      "  predicted class=1  expected loss=0.4408034  P(node) =0.09588486\n",
      "    class counts:   417   529\n",
      "   probabilities: 0.441 0.559 \n",
      "\n"
     ]
    }
   ],
   "source": [
    "dtree.starter.prune <- prune(dtree.starter, cp = 0.011)\n",
    "summary(dtree.starter.prune)"
   ]
  },
  {
   "cell_type": "code",
   "execution_count": 15,
   "metadata": {
    "collapsed": false
   },
   "outputs": [
    {
     "data": {
      "text/plain": [
       "          \n",
       "prediction    0    1\n",
       "         0 2288  239\n",
       "         1  229  533"
      ]
     },
     "execution_count": 15,
     "metadata": {},
     "output_type": "execute_result"
    }
   ],
   "source": [
    "prediction <- predict(dtree.starter, newdata = test, type = \"class\")\n",
    "predict_prob <- predict(dtree.starter, newdata = test, type = \"prob\")\n",
    "colnames(predict_prob) <- c(\"pnostart\", \"pstart\")\n",
    "table(prediction, test$starter)"
   ]
  },
  {
   "cell_type": "code",
   "execution_count": 16,
   "metadata": {
    "collapsed": false
   },
   "outputs": [
    {
     "ename": "ERROR",
     "evalue": "Error in eval(expr, envir, enclos): object 'model19' not found\n",
     "output_type": "error",
     "traceback": [
      "Error in eval(expr, envir, enclos): object 'model19' not found\n"
     ]
    }
   ],
   "source": [
    "names(model19)"
   ]
  },
  {
   "cell_type": "markdown",
   "metadata": {},
   "source": [
    "### Now with randomForest"
   ]
  },
  {
   "cell_type": "code",
   "execution_count": 17,
   "metadata": {
    "collapsed": false
   },
   "outputs": [
    {
     "name": "stderr",
     "output_type": "stream",
     "text": [
      "randomForest 4.6-12\n",
      "Type rfNews() to see new features/changes/bug fixes.\n",
      "\n",
      "Attaching package: 'randomForest'\n",
      "\n",
      "The following object is masked from 'package:dplyr':\n",
      "\n",
      "    combine\n",
      "\n"
     ]
    }
   ],
   "source": [
    "library(\"randomForest\")\n",
    "\n",
    "# Note: Took out init_Value as random Forest doesn't like missing values. Init_Value wasn't important in DT, so it's ok\n",
    "rforest <- randomForest(as.factor(starter)~played_rate+ starter_rate+ last_week_status + last_week_points+ played_last_3+ started_last_3+ avg_earnings,\n",
    "                        data=train, ntree = 1001)\n",
    "#Force Classifier outcome by making dependent variable factor"
   ]
  },
  {
   "cell_type": "code",
   "execution_count": 18,
   "metadata": {
    "collapsed": false
   },
   "outputs": [
    {
     "data": {
      "text/plain": [
       "          \n",
       "prediction    0    1\n",
       "         0 2280  261\n",
       "         1  237  511"
      ]
     },
     "execution_count": 18,
     "metadata": {},
     "output_type": "execute_result"
    }
   ],
   "source": [
    "prediction <- predict(rforest, newdata = test, type = \"class\")\n",
    "table(prediction, test$starter)"
   ]
  },
  {
   "cell_type": "code",
   "execution_count": 19,
   "metadata": {
    "collapsed": false
   },
   "outputs": [],
   "source": [
    "starter_probs <- predict(rforest, newdata = plm.played.all, type = \"prob\")\n",
    "starter_probs <- cbind(starter_probs, plm.played.all[c(\"id\", \"matchday\")])\n",
    "save(starter_probs, file = \"starter_probs.RData\")"
   ]
  },
  {
   "cell_type": "markdown",
   "metadata": {},
   "source": [
    "### Old Code that I might want to reuse"
   ]
  },
  {
   "cell_type": "code",
   "execution_count": 20,
   "metadata": {
    "collapsed": false
   },
   "outputs": [
    {
     "ename": "ERROR",
     "evalue": "Error in colnames(rfpred.df) <- c(\"pnostart\", \"pstart\"): object 'rfpred.df' not found\n",
     "output_type": "error",
     "traceback": [
      "Error in colnames(rfpred.df) <- c(\"pnostart\", \"pstart\"): object 'rfpred.df' not found\n"
     ]
    },
    {
     "ename": "ERROR",
     "evalue": "Error in eval(expr, envir, enclos): could not find function \"ggplot\"\n",
     "output_type": "error",
     "traceback": [
      "Error in eval(expr, envir, enclos): could not find function \"ggplot\"\n"
     ]
    }
   ],
   "source": [
    "colnames(rfpred.df) <- c(\"pnostart\", \"pstart\")\n",
    "ggplot(rfpred.df, aes(pstart)) + geom_histogram()"
   ]
  },
  {
   "cell_type": "code",
   "execution_count": 21,
   "metadata": {
    "collapsed": false
   },
   "outputs": [
    {
     "ename": "ERROR",
     "evalue": "Error in rfpred.df$vote[rfpred.df$pstart < threshold] = 0: object 'rfpred.df' not found\n",
     "output_type": "error",
     "traceback": [
      "Error in rfpred.df$vote[rfpred.df$pstart < threshold] = 0: object 'rfpred.df' not found\n"
     ]
    },
    {
     "ename": "ERROR",
     "evalue": "Error in rfpred.df$vote[rfpred.df$pstart >= threshold] = 1: object 'rfpred.df' not found\n",
     "output_type": "error",
     "traceback": [
      "Error in rfpred.df$vote[rfpred.df$pstart >= threshold] = 1: object 'rfpred.df' not found\n"
     ]
    },
    {
     "ename": "ERROR",
     "evalue": "Error in table(rfpred.df$vote, model19$started): object 'rfpred.df' not found\n",
     "output_type": "error",
     "traceback": [
      "Error in table(rfpred.df$vote, model19$started): object 'rfpred.df' not found\n"
     ]
    }
   ],
   "source": [
    "# Should be easier to identify non-starters\n",
    "threshold = 0.75\n",
    "rfpred.df$vote[rfpred.df$pstart < threshold] = 0\n",
    "rfpred.df$vote[rfpred.df$pstart >= threshold] = 1\n",
    "\n",
    "#rfpred.df$vote\n",
    "table(rfpred.df$vote, model19$started)"
   ]
  },
  {
   "cell_type": "code",
   "execution_count": 22,
   "metadata": {
    "collapsed": false
   },
   "outputs": [],
   "source": [
    "#treemodel2 = prune(dtreeplayed, cp = 0.011)\n",
    "#plot(treemodel2, uniform = TRUE)\n",
    "#text(treemodel2)\n",
    "#summary(treemodel2)"
   ]
  },
  {
   "cell_type": "code",
   "execution_count": 23,
   "metadata": {
    "collapsed": false
   },
   "outputs": [
    {
     "ename": "ERROR",
     "evalue": "Error in cbind(model19, prediction, predict_prob): object 'model19' not found\n",
     "output_type": "error",
     "traceback": [
      "Error in cbind(model19, prediction, predict_prob): object 'model19' not found\n"
     ]
    },
    {
     "data": {
      "text/html": [
       "<table>\n",
       "<thead><tr><th></th><th scope=col>id</th><th scope=col>Name</th><th scope=col>played_rate</th><th scope=col>starter_rate</th><th scope=col>last_week_status</th><th scope=col>last_week_points</th><th scope=col>played_last_3</th><th scope=col>started_last_3</th><th scope=col>avg_mins</th><th scope=col>avg_earnings</th><th scope=col>init_Value</th><th scope=col>played</th><th scope=col>starter</th><th scope=col>status</th><th scope=col>matchday</th></tr></thead>\n",
       "<tbody>\n",
       "</tbody>\n",
       "</table>\n"
      ],
      "text/latex": [
       "\\begin{tabular}{r|lllllllllllllll}\n",
       "  & id & Name & played_rate & starter_rate & last_week_status & last_week_points & played_last_3 & started_last_3 & avg_mins & avg_earnings & init_Value & played & starter & status & matchday\\\\\n",
       "\\hline\n",
       "\\end{tabular}\n"
      ],
      "text/plain": [
       " [1] id               Name             played_rate      starter_rate    \n",
       " [5] last_week_status last_week_points played_last_3    started_last_3  \n",
       " [9] avg_mins         avg_earnings     init_Value       played          \n",
       "[13] starter          status           matchday        \n",
       "<0 rows> (or 0-length row.names)"
      ]
     },
     "execution_count": 23,
     "metadata": {},
     "output_type": "execute_result"
    }
   ],
   "source": [
    "## Who are these 17?\n",
    "test <- cbind(model19, prediction, predict_prob)\n",
    "#names(test)\n",
    "subset(test, test$prediction == TRUE & test$started == FALSE)"
   ]
  },
  {
   "cell_type": "code",
   "execution_count": 24,
   "metadata": {
    "collapsed": false
   },
   "outputs": [
    {
     "ename": "ERROR",
     "evalue": "Error in library(\"ROCR\"): there is no package called 'ROCR'\n",
     "output_type": "error",
     "traceback": [
      "Error in library(\"ROCR\"): there is no package called 'ROCR'\n"
     ]
    },
    {
     "ename": "ERROR",
     "evalue": "Error in eval(expr, envir, enclos): could not find function \"prediction\"\n",
     "output_type": "error",
     "traceback": [
      "Error in eval(expr, envir, enclos): could not find function \"prediction\"\n"
     ]
    },
    {
     "ename": "ERROR",
     "evalue": "Error in eval(expr, envir, enclos): could not find function \"performance\"\n",
     "output_type": "error",
     "traceback": [
      "Error in eval(expr, envir, enclos): could not find function \"performance\"\n"
     ]
    },
    {
     "ename": "ERROR",
     "evalue": "Error in plot(perf): object 'perf' not found\n",
     "output_type": "error",
     "traceback": [
      "Error in plot(perf): object 'perf' not found\n"
     ]
    }
   ],
   "source": [
    "library(\"ROCR\")\n",
    "predictions_array = as.integer(as.logical(predictions)) # scores should be numeric\n",
    "\n",
    "pred <- prediction(predictions_array, model19$played) \n",
    "\n",
    "perf <- performance(pred, \"prec\", \"rec\")\n",
    "\n",
    "plot(perf)"
   ]
  }
 ],
 "metadata": {
  "kernelspec": {
   "display_name": "R",
   "language": "R",
   "name": "ir"
  },
  "language_info": {
   "codemirror_mode": "r",
   "file_extension": ".r",
   "mimetype": "text/x-r-source",
   "name": "R",
   "pygments_lexer": "r",
   "version": "3.2.2"
  }
 },
 "nbformat": 4,
 "nbformat_minor": 0
}
