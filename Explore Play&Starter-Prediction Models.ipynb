{
 "cells": [
  {
   "cell_type": "code",
   "execution_count": 1,
   "metadata": {
    "collapsed": false
   },
   "outputs": [
    {
     "name": "stderr",
     "output_type": "stream",
     "text": [
      "\n",
      "Attaching package: 'dplyr'\n",
      "\n",
      "The following objects are masked from 'package:stats':\n",
      "\n",
      "    filter, lag\n",
      "\n",
      "The following objects are masked from 'package:base':\n",
      "\n",
      "    intersect, setdiff, setequal, union\n",
      "\n"
     ]
    }
   ],
   "source": [
    "setwd(\"~/Projects/livemanager/\")\n",
    "library(\"rpart\")\n",
    "load(\"plm.RData\")\n",
    "library(\"dplyr\")"
   ]
  },
  {
   "cell_type": "markdown",
   "metadata": {},
   "source": [
    "### Define Functions"
   ]
  },
  {
   "cell_type": "code",
   "execution_count": 2,
   "metadata": {
    "collapsed": false
   },
   "outputs": [],
   "source": [
    "starterfeatures <- function(data = plm, spieltag)  {\n",
    "    \n",
    "    data.subset <- subset(data, data$matchday < spieltag)\n",
    "    data.features <- data.subset %>%\n",
    "            group_by(id, Name) %>%\n",
    "            summarise(played_rate = sum(time_on_pitch > 0)/max(matchday),\n",
    "                      starter_rate = sum(status == \"starter\")/max(matchday),\n",
    "                      last_week_status = status[matchday = max(matchday)],\n",
    "                      last_week_points = total_earnings[matchday = max(matchday)],\n",
    "                      played_last_3 = sum(time_on_pitch[matchday >= max(matchday) - 2] > 0),\n",
    "                      started_last_3 = sum(status[matchday >= max(matchday) -2] == \"starter\"),\n",
    "                      avg_mins = mean(time_on_pitch),\n",
    "                      avg_earnings = mean(total_earnings),\n",
    "                      init_Value = mean(init_Value)\n",
    "                      ) %>%\n",
    "            ungroup() %>%\n",
    "            arrange(id, Name)\n",
    "\n",
    "    return(data.features)\n",
    "    \n",
    "}"
   ]
  },
  {
   "cell_type": "code",
   "execution_count": 3,
   "metadata": {
    "collapsed": false
   },
   "outputs": [],
   "source": [
    "starterlabels <- function(data = plm, spieltag)  {\n",
    "    \n",
    "    data.subset <- subset(data, data$matchday == spieltag)\n",
    "    data.labels <- data.subset %>%\n",
    "            group_by(id) %>%\n",
    "            summarise(played = sum(time_on_pitch > 0),\n",
    "                      starter = sum(status == \"starter\"),\n",
    "                      status = first(status),\n",
    "                      matchday = first(matchday)\n",
    "                      ) %>%\n",
    "            ungroup() %>%\n",
    "            arrange(id)\n",
    "\n",
    "    return(data.labels)\n",
    "    \n",
    "}"
   ]
  },
  {
   "cell_type": "markdown",
   "metadata": {},
   "source": [
    "### Build dataset, starting at Spieltag 5"
   ]
  },
  {
   "cell_type": "code",
   "execution_count": 4,
   "metadata": {
    "collapsed": false
   },
   "outputs": [
    {
     "name": "stdout",
     "output_type": "stream",
     "text": [
      "Completed matchday  5Completed matchday  6Completed matchday  7Completed matchday  8Completed matchday  9Completed matchday  10Completed matchday  11Completed matchday  12Completed matchday  13Completed matchday  14Completed matchday  15Completed matchday  16Completed matchday  17Completed matchday  18Completed matchday  19"
     ]
    }
   ],
   "source": [
    "max_matchday = max(plm$matchday)\n",
    "\n",
    "plm.played.all <- as.data.frame(NULL)\n",
    "\n",
    "for (i in 5:max_matchday) {\n",
    "    features <- starterfeatures(data = plm, spieltag = i)\n",
    "    labels <- starterlabels(data = plm, spieltag = i)\n",
    "    merge <- merge(features, labels, by = \"id\")\n",
    "    plm.played.all <- rbind(plm.played.all, merge)\n",
    "    cat(\"Completed matchday \", i)\n",
    "}"
   ]
  },
  {
   "cell_type": "markdown",
   "metadata": {},
   "source": [
    "### Split training & test data"
   ]
  },
  {
   "cell_type": "code",
   "execution_count": 5,
   "metadata": {
    "collapsed": false
   },
   "outputs": [],
   "source": [
    "## Use 75% as train\n",
    "smp_size <- floor(0.75 * nrow(plm.played.all))\n",
    "\n",
    "## set the seed to make your partition reproductible\n",
    "set.seed(123)\n",
    "train_indices <- sample(seq_len(nrow(plm.played.all)), size = smp_size)\n",
    "\n",
    "train <- plm.played.all[train_indices, ]\n",
    "test <- plm.played.all[-train_indices, ]"
   ]
  },
  {
   "cell_type": "code",
   "execution_count": 6,
   "metadata": {
    "collapsed": false
   },
   "outputs": [
    {
     "data": {
      "text/html": [
       "<ol class=list-inline>\n",
       "\t<li>'id'</li>\n",
       "\t<li>'Name'</li>\n",
       "\t<li>'played_rate'</li>\n",
       "\t<li>'starter_rate'</li>\n",
       "\t<li>'last_week_status'</li>\n",
       "\t<li>'last_week_points'</li>\n",
       "\t<li>'played_last_3'</li>\n",
       "\t<li>'started_last_3'</li>\n",
       "\t<li>'avg_mins'</li>\n",
       "\t<li>'avg_earnings'</li>\n",
       "\t<li>'init_Value'</li>\n",
       "\t<li>'played'</li>\n",
       "\t<li>'starter'</li>\n",
       "\t<li>'status'</li>\n",
       "\t<li>'matchday'</li>\n",
       "</ol>\n"
      ],
      "text/latex": [
       "\\begin{enumerate*}\n",
       "\\item 'id'\n",
       "\\item 'Name'\n",
       "\\item 'played_rate'\n",
       "\\item 'starter_rate'\n",
       "\\item 'last_week_status'\n",
       "\\item 'last_week_points'\n",
       "\\item 'played_last_3'\n",
       "\\item 'started_last_3'\n",
       "\\item 'avg_mins'\n",
       "\\item 'avg_earnings'\n",
       "\\item 'init_Value'\n",
       "\\item 'played'\n",
       "\\item 'starter'\n",
       "\\item 'status'\n",
       "\\item 'matchday'\n",
       "\\end{enumerate*}\n"
      ],
      "text/markdown": [
       "1. 'id'\n",
       "2. 'Name'\n",
       "3. 'played_rate'\n",
       "4. 'starter_rate'\n",
       "5. 'last_week_status'\n",
       "6. 'last_week_points'\n",
       "7. 'played_last_3'\n",
       "8. 'started_last_3'\n",
       "9. 'avg_mins'\n",
       "10. 'avg_earnings'\n",
       "11. 'init_Value'\n",
       "12. 'played'\n",
       "13. 'starter'\n",
       "14. 'status'\n",
       "15. 'matchday'\n",
       "\n",
       "\n"
      ],
      "text/plain": [
       " [1] \"id\"               \"Name\"             \"played_rate\"      \"starter_rate\"    \n",
       " [5] \"last_week_status\" \"last_week_points\" \"played_last_3\"    \"started_last_3\"  \n",
       " [9] \"avg_mins\"         \"avg_earnings\"     \"init_Value\"       \"played\"          \n",
       "[13] \"starter\"          \"status\"           \"matchday\"        "
      ]
     },
     "execution_count": 6,
     "metadata": {},
     "output_type": "execute_result"
    }
   ],
   "source": [
    "names(train)"
   ]
  },
  {
   "cell_type": "markdown",
   "metadata": {},
   "source": [
    "### Decision Tree - Played"
   ]
  },
  {
   "cell_type": "code",
   "execution_count": 7,
   "metadata": {
    "collapsed": false
   },
   "outputs": [],
   "source": [
    "library(\"rpart\")\n",
    "dtree.played <- rpart(played~played_rate+ starter_rate+ last_week_status + last_week_points+ played_last_3+ started_last_3+ avg_earnings+ init_Value,\n",
    "                        data=train, method = \"class\")"
   ]
  },
  {
   "cell_type": "code",
   "execution_count": 8,
   "metadata": {
    "collapsed": false
   },
   "outputs": [
    {
     "ename": "ERROR",
     "evalue": "Error in summary(dtree.played.prune): object 'dtree.played.prune' not found\n",
     "output_type": "error",
     "traceback": [
      "Error in summary(dtree.played.prune): object 'dtree.played.prune' not found\n"
     ]
    }
   ],
   "source": [
    "#plot(dtree.played)\n",
    "#text(dtree.played)\n",
    "#plotcp(treemodel)\n",
    "#printcp(treemodel)\n",
    "#text(treemodel, cex = 0.75)\n",
    "summary(dtree.played.prune)"
   ]
  },
  {
   "cell_type": "code",
   "execution_count": 9,
   "metadata": {
    "collapsed": false
   },
   "outputs": [
    {
     "data": {
      "text/plain": [
       "           \n",
       "predictions    0    1\n",
       "          0 1163  140\n",
       "          1  185  749"
      ]
     },
     "execution_count": 9,
     "metadata": {},
     "output_type": "execute_result"
    }
   ],
   "source": [
    "predictions <- predict(dtree.played, newdata = test, type = \"class\")\n",
    "table(predictions, test$played) "
   ]
  },
  {
   "cell_type": "code",
   "execution_count": 10,
   "metadata": {
    "collapsed": false
   },
   "outputs": [
    {
     "data": {
      "text/plain": [
       "                  \n",
       "predictions.pruned    0    1\n",
       "                 0 1163  140\n",
       "                 1  185  749"
      ]
     },
     "execution_count": 10,
     "metadata": {},
     "output_type": "execute_result"
    }
   ],
   "source": [
    "dtree.played.prune <- prune(dtree.played, cp = 0.011)\n",
    "predictions.pruned <- predict(dtree.played.prune, newdata = test, type = \"class\")\n",
    "table(predictions.pruned, test$played) "
   ]
  },
  {
   "cell_type": "markdown",
   "metadata": {},
   "source": [
    "### Decision Tree: Starter"
   ]
  },
  {
   "cell_type": "code",
   "execution_count": 11,
   "metadata": {
    "collapsed": false
   },
   "outputs": [],
   "source": [
    "library(\"rpart\")\n",
    "dtree.starter <- rpart(starter~last_week_status + played_rate+ starter_rate+ last_week_points+ played_last_3+ started_last_3+ avg_earnings+ init_Value,\n",
    "                        data=train, method = \"class\")"
   ]
  },
  {
   "cell_type": "code",
   "execution_count": 12,
   "metadata": {
    "collapsed": false
   },
   "outputs": [
    {
     "name": "stdout",
     "output_type": "stream",
     "text": [
      "Call:\n",
      "rpart(formula = starter ~ last_week_status + played_rate + starter_rate + \n",
      "    last_week_points + played_last_3 + started_last_3 + avg_earnings + \n",
      "    init_Value, data = train, method = \"class\")\n",
      "  n= 6708 \n",
      "\n",
      "         CP nsplit rel error    xerror       xstd\n",
      "1 0.4477245      0 1.0000000 1.0000000 0.02158542\n",
      "2 0.0100000      1 0.5522755 0.5522755 0.01715178\n",
      "\n",
      "Variable importance\n",
      "last_week_status   started_last_3 last_week_points     starter_rate \n",
      "              30               20               14               14 \n",
      "   played_last_3     avg_earnings \n",
      "              12               10 \n",
      "\n",
      "Node number 1: 6708 observations,    complexity param=0.4477245\n",
      "  predicted class=0  expected loss=0.2423971  P(node) =1\n",
      "    class counts:  5082  1626\n",
      "   probabilities: 0.758 0.242 \n",
      "  left son=2 (5076 obs) right son=3 (1632 obs)\n",
      "  Primary splits:\n",
      "      last_week_status splits as  -LLLRL-L, improve=996.4722, (0 missing)\n",
      "      started_last_3   < 0.5       to the left,  improve=976.6058, (0 missing)\n",
      "      starter_rate     < 0.3229167 to the left,  improve=872.7720, (0 missing)\n",
      "      played_last_3    < 1.5       to the left,  improve=820.6863, (0 missing)\n",
      "      last_week_points < 6750      to the left,  improve=763.1154, (0 missing)\n",
      "  Surrogate splits:\n",
      "      started_last_3   < 1.5       to the left,  agree=0.922, adj=0.681, (0 split)\n",
      "      last_week_points < 26750     to the left,  agree=0.873, adj=0.479, (0 split)\n",
      "      starter_rate     < 0.541958  to the left,  agree=0.871, adj=0.471, (0 split)\n",
      "      played_last_3    < 2.5       to the left,  agree=0.856, adj=0.409, (0 split)\n",
      "      avg_earnings     < 51733.33  to the left,  agree=0.838, adj=0.335, (0 split)\n",
      "\n",
      "Node number 2: 5076 observations\n",
      "  predicted class=0  expected loss=0.08786446  P(node) =0.7567084\n",
      "    class counts:  4630   446\n",
      "   probabilities: 0.912 0.088 \n",
      "\n",
      "Node number 3: 1632 observations\n",
      "  predicted class=1  expected loss=0.2769608  P(node) =0.2432916\n",
      "    class counts:   452  1180\n",
      "   probabilities: 0.277 0.723 \n",
      "\n"
     ]
    }
   ],
   "source": [
    "summary(dtree.starter)"
   ]
  },
  {
   "cell_type": "code",
   "execution_count": 13,
   "metadata": {
    "collapsed": false
   },
   "outputs": [
    {
     "name": "stdout",
     "output_type": "stream",
     "text": [
      "Call:\n",
      "rpart(formula = starter ~ last_week_status + played_rate + starter_rate + \n",
      "    last_week_points + played_last_3 + started_last_3 + avg_earnings + \n",
      "    init_Value, data = train, method = \"class\")\n",
      "  n= 6708 \n",
      "\n",
      "         CP nsplit rel error    xerror       xstd\n",
      "1 0.4477245      0 1.0000000 1.0000000 0.02158542\n",
      "2 0.0100000      1 0.5522755 0.5522755 0.01715178\n",
      "\n",
      "Variable importance\n",
      "last_week_status   started_last_3 last_week_points     starter_rate \n",
      "              30               20               14               14 \n",
      "   played_last_3     avg_earnings \n",
      "              12               10 \n",
      "\n",
      "Node number 1: 6708 observations,    complexity param=0.4477245\n",
      "  predicted class=0  expected loss=0.2423971  P(node) =1\n",
      "    class counts:  5082  1626\n",
      "   probabilities: 0.758 0.242 \n",
      "  left son=2 (5076 obs) right son=3 (1632 obs)\n",
      "  Primary splits:\n",
      "      last_week_status splits as  -LLLRL-L, improve=996.4722, (0 missing)\n",
      "      started_last_3   < 0.5       to the left,  improve=976.6058, (0 missing)\n",
      "      starter_rate     < 0.3229167 to the left,  improve=872.7720, (0 missing)\n",
      "      played_last_3    < 1.5       to the left,  improve=820.6863, (0 missing)\n",
      "      last_week_points < 6750      to the left,  improve=763.1154, (0 missing)\n",
      "  Surrogate splits:\n",
      "      started_last_3   < 1.5       to the left,  agree=0.922, adj=0.681, (0 split)\n",
      "      last_week_points < 26750     to the left,  agree=0.873, adj=0.479, (0 split)\n",
      "      starter_rate     < 0.541958  to the left,  agree=0.871, adj=0.471, (0 split)\n",
      "      played_last_3    < 2.5       to the left,  agree=0.856, adj=0.409, (0 split)\n",
      "      avg_earnings     < 51733.33  to the left,  agree=0.838, adj=0.335, (0 split)\n",
      "\n",
      "Node number 2: 5076 observations\n",
      "  predicted class=0  expected loss=0.08786446  P(node) =0.7567084\n",
      "    class counts:  4630   446\n",
      "   probabilities: 0.912 0.088 \n",
      "\n",
      "Node number 3: 1632 observations\n",
      "  predicted class=1  expected loss=0.2769608  P(node) =0.2432916\n",
      "    class counts:   452  1180\n",
      "   probabilities: 0.277 0.723 \n",
      "\n"
     ]
    }
   ],
   "source": [
    "dtree.starter.prune <- prune(dtree.starter, cp = 0.011)\n",
    "summary(dtree.starter.prune)"
   ]
  },
  {
   "cell_type": "code",
   "execution_count": 14,
   "metadata": {
    "collapsed": false
   },
   "outputs": [
    {
     "data": {
      "text/plain": [
       "          \n",
       "prediction    0    1\n",
       "         0 1543  160\n",
       "         1  158  376"
      ]
     },
     "execution_count": 14,
     "metadata": {},
     "output_type": "execute_result"
    }
   ],
   "source": [
    "prediction <- predict(dtree.starter, newdata = test, type = \"class\")\n",
    "predict_prob <- predict(dtree.starter, newdata = test, type = \"prob\")\n",
    "colnames(predict_prob) <- c(\"pnostart\", \"pstart\")\n",
    "table(prediction, test$starter)"
   ]
  },
  {
   "cell_type": "code",
   "execution_count": 15,
   "metadata": {
    "collapsed": false
   },
   "outputs": [
    {
     "ename": "ERROR",
     "evalue": "Error in eval(expr, envir, enclos): object 'model19' not found\n",
     "output_type": "error",
     "traceback": [
      "Error in eval(expr, envir, enclos): object 'model19' not found\n"
     ]
    }
   ],
   "source": [
    "names(model19)"
   ]
  },
  {
   "cell_type": "markdown",
   "metadata": {},
   "source": [
    "### Now with randomForest"
   ]
  },
  {
   "cell_type": "code",
   "execution_count": 29,
   "metadata": {
    "collapsed": false
   },
   "outputs": [],
   "source": [
    "library(\"randomForest\")\n",
    "\n",
    "# Note: Took out init_Value as random Forest doesn't like missing values. Init_Value wasn't important in DT, so it's ok\n",
    "rforest <- randomForest(as.factor(starter)~played_rate+ starter_rate+ last_week_status + last_week_points+ played_last_3+ started_last_3+ avg_earnings,\n",
    "                        data=train, ntree = 1001)\n",
    "#Force Classifier outcome by making dependent variable factor"
   ]
  },
  {
   "cell_type": "code",
   "execution_count": 30,
   "metadata": {
    "collapsed": false
   },
   "outputs": [
    {
     "data": {
      "text/plain": [
       "          \n",
       "prediction    0    1\n",
       "         0 1564  165\n",
       "         1  137  371"
      ]
     },
     "execution_count": 30,
     "metadata": {},
     "output_type": "execute_result"
    }
   ],
   "source": [
    "prediction <- predict(rforest, newdata = test, type = \"class\")\n",
    "table(prediction, test$starter)"
   ]
  },
  {
   "cell_type": "code",
   "execution_count": 63,
   "metadata": {
    "collapsed": false
   },
   "outputs": [],
   "source": [
    "starter_probs <- predict(rforest, newdata = plm.played.all, type = \"prob\")\n",
    "starter_probs <- cbind(starter_probs, plm.played.all[c(\"id\", \"matchday\")])\n",
    "save(starter_probs, file = \"starter_probs.RData\")"
   ]
  },
  {
   "cell_type": "markdown",
   "metadata": {},
   "source": [
    "### Old Code that I might want to reuse"
   ]
  },
  {
   "cell_type": "code",
   "execution_count": 18,
   "metadata": {
    "collapsed": false
   },
   "outputs": [
    {
     "ename": "ERROR",
     "evalue": "Error in colnames(rfpred.df) <- c(\"pnostart\", \"pstart\"): object 'rfpred.df' not found\n",
     "output_type": "error",
     "traceback": [
      "Error in colnames(rfpred.df) <- c(\"pnostart\", \"pstart\"): object 'rfpred.df' not found\n"
     ]
    },
    {
     "ename": "ERROR",
     "evalue": "Error in eval(expr, envir, enclos): could not find function \"ggplot\"\n",
     "output_type": "error",
     "traceback": [
      "Error in eval(expr, envir, enclos): could not find function \"ggplot\"\n"
     ]
    }
   ],
   "source": [
    "colnames(rfpred.df) <- c(\"pnostart\", \"pstart\")\n",
    "ggplot(rfpred.df, aes(pstart)) + geom_histogram()"
   ]
  },
  {
   "cell_type": "code",
   "execution_count": 19,
   "metadata": {
    "collapsed": false
   },
   "outputs": [
    {
     "ename": "ERROR",
     "evalue": "Error in rfpred.df$vote[rfpred.df$pstart < threshold] = 0: object 'rfpred.df' not found\n",
     "output_type": "error",
     "traceback": [
      "Error in rfpred.df$vote[rfpred.df$pstart < threshold] = 0: object 'rfpred.df' not found\n"
     ]
    },
    {
     "ename": "ERROR",
     "evalue": "Error in rfpred.df$vote[rfpred.df$pstart >= threshold] = 1: object 'rfpred.df' not found\n",
     "output_type": "error",
     "traceback": [
      "Error in rfpred.df$vote[rfpred.df$pstart >= threshold] = 1: object 'rfpred.df' not found\n"
     ]
    },
    {
     "ename": "ERROR",
     "evalue": "Error in table(rfpred.df$vote, model19$started): object 'rfpred.df' not found\n",
     "output_type": "error",
     "traceback": [
      "Error in table(rfpred.df$vote, model19$started): object 'rfpred.df' not found\n"
     ]
    }
   ],
   "source": [
    "# Should be easier to identify non-starters\n",
    "threshold = 0.75\n",
    "rfpred.df$vote[rfpred.df$pstart < threshold] = 0\n",
    "rfpred.df$vote[rfpred.df$pstart >= threshold] = 1\n",
    "\n",
    "#rfpred.df$vote\n",
    "table(rfpred.df$vote, model19$started)"
   ]
  },
  {
   "cell_type": "code",
   "execution_count": 20,
   "metadata": {
    "collapsed": false
   },
   "outputs": [],
   "source": [
    "#treemodel2 = prune(dtreeplayed, cp = 0.011)\n",
    "#plot(treemodel2, uniform = TRUE)\n",
    "#text(treemodel2)\n",
    "#summary(treemodel2)"
   ]
  },
  {
   "cell_type": "code",
   "execution_count": 21,
   "metadata": {
    "collapsed": false
   },
   "outputs": [
    {
     "ename": "ERROR",
     "evalue": "Error in cbind(model19, prediction, predict_prob): object 'model19' not found\n",
     "output_type": "error",
     "traceback": [
      "Error in cbind(model19, prediction, predict_prob): object 'model19' not found\n"
     ]
    },
    {
     "data": {
      "text/html": [
       "<table>\n",
       "<thead><tr><th></th><th scope=col>id</th><th scope=col>Name</th><th scope=col>played_rate</th><th scope=col>starter_rate</th><th scope=col>last_week_status</th><th scope=col>last_week_points</th><th scope=col>played_last_3</th><th scope=col>started_last_3</th><th scope=col>avg_mins</th><th scope=col>avg_earnings</th><th scope=col>init_Value</th><th scope=col>played</th><th scope=col>starter</th><th scope=col>status</th><th scope=col>matchday</th></tr></thead>\n",
       "<tbody>\n",
       "</tbody>\n",
       "</table>\n"
      ],
      "text/latex": [
       "\\begin{tabular}{r|lllllllllllllll}\n",
       "  & id & Name & played_rate & starter_rate & last_week_status & last_week_points & played_last_3 & started_last_3 & avg_mins & avg_earnings & init_Value & played & starter & status & matchday\\\\\n",
       "\\hline\n",
       "\\end{tabular}\n"
      ],
      "text/plain": [
       " [1] id               Name             played_rate      starter_rate    \n",
       " [5] last_week_status last_week_points played_last_3    started_last_3  \n",
       " [9] avg_mins         avg_earnings     init_Value       played          \n",
       "[13] starter          status           matchday        \n",
       "<0 rows> (or 0-length row.names)"
      ]
     },
     "execution_count": 21,
     "metadata": {},
     "output_type": "execute_result"
    }
   ],
   "source": [
    "## Who are these 17?\n",
    "test <- cbind(model19, prediction, predict_prob)\n",
    "#names(test)\n",
    "subset(test, test$prediction == TRUE & test$started == FALSE)"
   ]
  },
  {
   "cell_type": "code",
   "execution_count": 22,
   "metadata": {
    "collapsed": false
   },
   "outputs": [
    {
     "name": "stderr",
     "output_type": "stream",
     "text": [
      "Loading required package: gplots\n",
      "\n",
      "Attaching package: 'gplots'\n",
      "\n",
      "The following object is masked from 'package:stats':\n",
      "\n",
      "    lowess\n",
      "\n"
     ]
    },
    {
     "ename": "ERROR",
     "evalue": "Error in is.data.frame(labels): object 'model19' not found\n",
     "output_type": "error",
     "traceback": [
      "Error in is.data.frame(labels): object 'model19' not found\n"
     ]
    },
    {
     "ename": "ERROR",
     "evalue": "Error in performance(pred, \"prec\", \"rec\"): object 'pred' not found\n",
     "output_type": "error",
     "traceback": [
      "Error in performance(pred, \"prec\", \"rec\"): object 'pred' not found\n"
     ]
    },
    {
     "ename": "ERROR",
     "evalue": "Error in plot(perf): error in evaluating the argument 'x' in selecting a method for function 'plot': Error: object 'perf' not found\n\n",
     "output_type": "error",
     "traceback": [
      "Error in plot(perf): error in evaluating the argument 'x' in selecting a method for function 'plot': Error: object 'perf' not found\n\n"
     ]
    }
   ],
   "source": [
    "library(\"ROCR\")\n",
    "predictions_array = as.integer(as.logical(predictions)) # scores should be numeric\n",
    "\n",
    "pred <- prediction(predictions_array, model19$played) \n",
    "\n",
    "perf <- performance(pred, \"prec\", \"rec\")\n",
    "\n",
    "plot(perf)"
   ]
  }
 ],
 "metadata": {
  "kernelspec": {
   "display_name": "R",
   "language": "R",
   "name": "ir"
  },
  "language_info": {
   "codemirror_mode": "r",
   "file_extension": ".r",
   "mimetype": "text/x-r-source",
   "name": "R",
   "pygments_lexer": "r",
   "version": "3.2.2"
  }
 },
 "nbformat": 4,
 "nbformat_minor": 0
}
