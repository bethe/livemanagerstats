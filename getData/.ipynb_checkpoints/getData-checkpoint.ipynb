{
 "cells": [
  {
   "cell_type": "code",
   "execution_count": 1,
   "metadata": {
    "collapsed": true
   },
   "outputs": [],
   "source": [
    "import json\n",
    "import requests\n",
    "import pprint\n",
    "import os\n",
    "import re\n",
    "import time\n",
    "import datetime"
   ]
  },
  {
   "cell_type": "markdown",
   "metadata": {},
   "source": [
    "## Part 1: Downloading data from API and joining in one big JSON file"
   ]
  },
  {
   "cell_type": "code",
   "execution_count": 429,
   "metadata": {
    "collapsed": false
   },
   "outputs": [
    {
     "name": "stdout",
     "output_type": "stream",
     "text": [
      "Starting at 2015-12-10 19:27:24.402078\n"
     ]
    }
   ],
   "source": [
    "start_time = time.time()\n",
    "print \"Starting at \" + str(datetime.datetime.fromtimestamp(start_time))\n",
    "BASE_URL = \"http://www.playlivemanager.com/api/players/\"\n",
    "ROUND_URL_EXT = \"/stats/round\"\n",
    "PLAYER_IDs = range(64400,64402)"
   ]
  },
  {
   "cell_type": "code",
   "execution_count": 36,
   "metadata": {
    "collapsed": true
   },
   "outputs": [],
   "source": [
    "def query_by_id(playerID):\n",
    "    print \"Processing Player with ID \" + playerID\n",
    "    url = BASE_URL + playerID + ROUND_URL_EXT\n",
    "    r = requests.get(url)\n",
    "    print \"requesting\", r.url\n",
    "    print r\n",
    "\n",
    "    if r.status_code == requests.codes.ok:\n",
    "        return r.json()\n",
    "        print r.json()\n",
    "    else:\n",
    "        r.raise_for_status()"
   ]
  },
  {
   "cell_type": "code",
   "execution_count": 337,
   "metadata": {
    "collapsed": false
   },
   "outputs": [],
   "source": [
    "def download_data():\n",
    "    for playerID in PLAYER_IDs:        \n",
    "        results = query_by_id(str(playerID))\n",
    "#        pprint.pprint(results)\n",
    "        with open(\"../data/{0}.json\".format(playerID), mode='w') as f:\n",
    "            json.dump(results, f)\n",
    "            print \"Stored data for player \" + str(playerID) + \" in \" + f.name"
   ]
  },
  {
   "cell_type": "code",
   "execution_count": 392,
   "metadata": {
    "collapsed": false
   },
   "outputs": [],
   "source": [
    "def transform_data():\n",
    "    print \"Deleting old files\"\n",
    "    try:\n",
    "        os.remove(\"../data/all.json\")\n",
    "    except:\n",
    "        pass\n",
    "    print \"Begin transforming data\"\n",
    "    for playerID in PLAYER_IDs:\n",
    "        with open(\"../data/all.json\", mode='a') as all:\n",
    "            f = open(\"../data/{0}.json\".format(playerID), 'r')\n",
    "            print \"Processing \" + f.name\n",
    "            file = f.read()\n",
    "            file = file.strip()\n",
    "            ## remove root\n",
    "            file = re.sub('{\\\"status\\\": \\\"ok\\\", \\\"response\\\": \\[', \"\", file)\n",
    "            ## remove superfluous ']}' at the end and replace with ','\n",
    "            file = re.sub(\"}}]}]}\", \"}}]},\", file)\n",
    "            #aggregate in one big json file\n",
    "            #json.dump(file, all)\n",
    "            all.write(file)\n",
    "            #all.close()\n",
    "            print \"Added \" + f.name + \" to \" + all.name\n",
    "\n",
    "    # wrap content in '[]', replacing last ','\n",
    "    with open(\"../data/allfinal.json\", mode='w') as all:\n",
    "        print \"Wrapping file in json format\"\n",
    "        reader = open(\"data/all.json\", 'r').read()\n",
    "        reader = '[' + reader\n",
    "        reader = re.sub(r\"\\,$\", r\"]\", reader)\n",
    "        reader = reader.strip()\n",
    "        all.write(\"%s\\n\" % reader)\n",
    "    \n",
    "    print \"All data stored in \" + all.name"
   ]
  },
  {
   "cell_type": "code",
   "execution_count": 374,
   "metadata": {
    "collapsed": false
   },
   "outputs": [
    {
     "name": "stdout",
     "output_type": "stream",
     "text": [
      "Processing Player with ID 64400\n",
      "requesting http://www.playlivemanager.com/api/players/64400/stats/round\n",
      "<Response [200]>\n",
      "Stored data for player 64400 in data/64400.json\n",
      "Processing Player with ID 64401\n",
      "requesting http://www.playlivemanager.com/api/players/64401/stats/round\n",
      "<Response [200]>\n",
      "Stored data for player 64401 in data/64401.json\n"
     ]
    }
   ],
   "source": [
    "download_data()"
   ]
  },
  {
   "cell_type": "code",
   "execution_count": 395,
   "metadata": {
    "collapsed": false
   },
   "outputs": [
    {
     "name": "stdout",
     "output_type": "stream",
     "text": [
      "Deleting old files\n",
      "Begin transforming data\n",
      "Processing data/64400.json\n",
      "Added data/64400.json to data/all.json\n",
      "Processing data/64401.json\n",
      "Added data/64401.json to data/all.json\n",
      "Wrapping file in json format\n",
      "All data stored in data/allfinal.json\n"
     ]
    }
   ],
   "source": [
    "transform_data()"
   ]
  },
  {
   "cell_type": "markdown",
   "metadata": {},
   "source": [
    "## Part 2: Converting the JSON file to CSV"
   ]
  },
  {
   "cell_type": "code",
   "execution_count": 1,
   "metadata": {
    "collapsed": false
   },
   "outputs": [
    {
     "name": "stdout",
     "output_type": "stream",
     "text": [
      "Flattened JSON to the following fields:\n",
      "[u'__assist', u'__clean_sheet', u'__goal', u'__matchday', u'__game_play_duration', u'__total_earnings', u'__matches_info__away_shortname', u'__matches_info__away_squad', u'__matches_info__away_score', u'__matches_info__time_on_pitch', u'__matches_info__player_status_status', u'__matches_info__player_status_id', u'__matches_info__player_status_match_id', u'__matches_info__period', u'__matches_info__finished', u'__matches_info__home_shortname', u'__matches_info__home_squad', u'__matches_info__home_score', u'__matches_info__player_status_in_for_player', u'__matches_info__player_status_sub_in_timestamp', u'__matches_info__player_status_sub_in_minutes', u'__matches_info__player_status_sub_out_minutes', u'__matches_info__player_status_sub_out_timestamp', u'__shot_on_target', u'__attempt_saved', u'__successful_pass']\n",
      "Stored CSV as ../data/playerdata.csv\n"
     ]
    }
   ],
   "source": [
    "## adapted rom https://gist.github.com/tjvc/12e393c48e0025509021\n",
    "\n",
    "from collections import OrderedDict\n",
    "import csv\n",
    "import json\n",
    "import sys\n",
    "\n",
    "infile = \"../data/allfinal.json\"\n",
    "outfile = open(\"../data/playerdata.csv\", \"w\")\n",
    "\n",
    "writer = csv.writer(outfile, delimiter=\",\")\n",
    "\n",
    "data = json.load(open(infile), object_pairs_hook=OrderedDict)\n",
    "\n",
    "# Recursively flatten JSON\n",
    "def flatten(structure, key=\"\", path=\"\", flattened=None): \n",
    "    if flattened is None:\n",
    "        flattened = OrderedDict()    \n",
    "    if type(structure) not in(OrderedDict, list):\n",
    "        flattened[((path + \"_\") if path else \"\") + key] = structure    \n",
    "    elif isinstance(structure, list):\n",
    "        for i, item in enumerate(structure):\n",
    "            flatten(item, \"\", path + \"_\" + key, flattened)    \n",
    "    else:\n",
    "        for new_key, value in structure.items():\n",
    "            flatten(value, new_key, path + \"_\" + key, flattened)    \n",
    "    return flattened\n",
    "\n",
    "# Write fields\n",
    "fields = []\n",
    "for result in data:\n",
    "    flattened = flatten(result)\n",
    "    for k, v in flattened.iteritems():\n",
    "        if k not in fields:\n",
    "            fields.append(k)\n",
    "writer.writerow(fields)\n",
    "print \"Flattened JSON to the following fields:\"\n",
    "print fields\n",
    "\n",
    "# Write values\n",
    "for result in data:\n",
    "    flattened = flatten(result)\n",
    "    row = []\n",
    "    for field in fields:\n",
    "        if field in flattened.iterkeys():\n",
    "            row.append(flattened[field])\n",
    "        else:\n",
    "            row.append(\"\")\n",
    "    writer.writerow(row)\n",
    "print \"Stored CSV as \" + outfile.name"
   ]
  },
  {
   "cell_type": "code",
   "execution_count": 450,
   "metadata": {
    "collapsed": false
   },
   "outputs": [
    {
     "name": "stdout",
     "output_type": "stream",
     "text": [
      "Started at 2015-12-10 19:27:24.402078\n",
      "Finished at 2015-12-10 19:42:28.024259\n"
     ]
    }
   ],
   "source": [
    "print \"Started at \" + str(datetime.datetime.fromtimestamp(start_time))\n",
    "print \"Finished at \" + str(datetime.datetime.fromtimestamp(time.time()))"
   ]
  }
 ],
 "metadata": {
  "kernelspec": {
   "display_name": "Python 2",
   "language": "python",
   "name": "python2"
  },
  "language_info": {
   "codemirror_mode": {
    "name": "ipython",
    "version": 2
   },
   "file_extension": ".py",
   "mimetype": "text/x-python",
   "name": "python",
   "nbconvert_exporter": "python",
   "pygments_lexer": "ipython2",
   "version": "2.7.11"
  }
 },
 "nbformat": 4,
 "nbformat_minor": 0
}
