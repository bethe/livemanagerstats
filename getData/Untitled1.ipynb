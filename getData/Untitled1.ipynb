{
 "cells": [
  {
   "cell_type": "code",
   "execution_count": 3,
   "metadata": {
    "collapsed": false
   },
   "outputs": [
    {
     "name": "stdout",
     "output_type": "stream",
     "text": [
      "'data.frame':\t200 obs. of  18 variables:\n",
      " $ LEAGUE   : Factor w/ 1 level \"Bundesliga\": 1 1 1 1 1 1 1 1 1 1 ...\n",
      " $ FTR      : Factor w/ 3 levels \"A\",\"D\",\"H\": 1 3 1 1 2 2 3 1 1 3 ...\n",
      " $ FTSC     : Factor w/ 28 levels \"0:0\",\"0:1\",\"0:2\",..: 9 19 9 8 1 7 6 9 8 19 ...\n",
      " $ MATCH_URL: Factor w/ 150 levels \"http://www.oddsportal.com/soccer/germany/bundesliga/augsburg-darmstadt-xUiCeN5H/\",..: 127 57 12 68 75 84 98 108 60 11 ...\n",
      " $ SEASON   : int  2015 2015 2015 2015 2015 2015 2015 2015 2015 2015 ...\n",
      " $ HOMETEAM : Factor w/ 18 levels \"Augsburg\",\"B. Monchengladbach\",..: 15 7 2 9 10 11 12 13 8 2 ...\n",
      " $ TIME     : Factor w/ 9 levels \"13:30\",\"14:30\",..: 5 2 6 2 2 2 2 2 9 5 ...\n",
      " $ FTHG     : int  1 3 1 1 0 1 1 1 1 3 ...\n",
      " $ AVOD     : num  4.05 3.55 4.55 3.26 3.35 3.91 3.16 3.48 6.74 4.18 ...\n",
      " $ AWAYTEAM : Factor w/ 18 levels \"Augsburg\",\"B. Monchengladbach\",..: 17 18 6 5 1 3 14 16 4 5 ...\n",
      " $ AVOA     : num  4.85 2.14 1.55 3.25 3.71 1.72 3.22 3.6 1.22 5.86 ...\n",
      " $ COUNTRY  : Factor w/ 1 level \"Germany\": 1 1 1 1 1 1 1 1 1 1 ...\n",
      " $ DATE     : Factor w/ 49 levels \"01-11-2015\",\"02-10-2015\",..: 36 36 32 32 32 32 32 32 28 26 ...\n",
      " $ ODDS_TYPE: Factor w/ 1 level \"EU Odds\": 1 1 1 1 1 1 1 1 1 1 ...\n",
      " $ FTAG     : int  3 2 3 2 0 1 0 3 2 2 ...\n",
      " $ AVOH     : num  1.7 3.38 5.71 2.33 2.1 4.91 2.39 2.09 13.8 1.58 ...\n",
      " $ TIMESTAMP: int  1453653000 1453645800 1453570200 1453559400 1453559400 1453559400 1453559400 1453559400 1453491000 1450629000 ...\n",
      " $ PAGE_URL : Factor w/ 4 levels \"http://www.oddsportal.com/soccer/germany/bundesliga/results/#/page/1/\",..: 1 1 1 1 1 1 1 1 1 1 ...\n"
     ]
    }
   ],
   "source": [
    "odds <- read.csv(\"../data/match_odds.csv\")\n",
    "str(odds)"
   ]
  }
 ],
 "metadata": {
  "kernelspec": {
   "display_name": "R",
   "language": "R",
   "name": "ir"
  },
  "language_info": {
   "codemirror_mode": "r",
   "file_extension": ".r",
   "mimetype": "text/x-r-source",
   "name": "R",
   "pygments_lexer": "r",
   "version": "3.2.2"
  }
 },
 "nbformat": 4,
 "nbformat_minor": 0
}
